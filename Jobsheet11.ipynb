{
  "nbformat": 4,
  "nbformat_minor": 0,
  "metadata": {
    "colab": {
      "provenance": [],
      "gpuType": "V28",
      "include_colab_link": true
    },
    "kernelspec": {
      "name": "python3",
      "display_name": "Python 3"
    },
    "language_info": {
      "name": "python"
    },
    "accelerator": "TPU"
  },
  "cells": [
    {
      "cell_type": "markdown",
      "metadata": {
        "id": "view-in-github",
        "colab_type": "text"
      },
      "source": [
        "<a href=\"https://colab.research.google.com/github/avicennamumtaza/courses-machinelearning/blob/main/Jobsheet11.ipynb\" target=\"_parent\"><img src=\"https://colab.research.google.com/assets/colab-badge.svg\" alt=\"Open In Colab\"/></a>"
      ]
    },
    {
      "cell_type": "markdown",
      "metadata": {
        "id": "XJKXds24V-b9"
      },
      "source": [
        "Nama : Avicenna Mumtaza \\\n",
        "NIM : 2241720112 \\\n",
        "Prodi : D4 Teknik Informatika \\\n",
        "Kelas/Absen : 3C/05 \\"
      ]
    },
    {
      "cell_type": "markdown",
      "source": [
        "##Praktikum 1\n",
        "\n",
        "Klasifikasi 🐱 dan 🐶\n",
        "\n",
        "**Deskripsi**\n",
        "\n",
        "Pada praktikum ini kita akan membuat model klasifikasi CNN sederhana pada kasus citra kucing dan anjing.\n",
        "\n",
        "**Dataset**\n",
        "\n",
        "Dataset merupakan data citra anjing dan kucing yang telah dibagi menjadi data training dan data testing. Dikarenakan data cukup besar, pastikan koneksi Anda sebelum mengunduh dataset."
      ],
      "metadata": {
        "id": "Zk2oBZASDs45"
      }
    },
    {
      "cell_type": "markdown",
      "source": [
        "Langkah 1 - Import Library"
      ],
      "metadata": {
        "id": "BLxCEjG8D79s"
      }
    },
    {
      "cell_type": "code",
      "source": [
        "import tensorflow as tf\n",
        "from tensorflow.keras.preprocessing.image import ImageDataGenerator"
      ],
      "metadata": {
        "id": "9mUxLaDFGLWd"
      },
      "execution_count": 1,
      "outputs": []
    },
    {
      "cell_type": "code",
      "source": [
        "from google.colab import drive\n",
        "drive.mount('/content/drive')"
      ],
      "metadata": {
        "id": "mpKxJEQkJJqU",
        "outputId": "480507a3-2c69-4515-94ed-6d5d530871d0",
        "colab": {
          "base_uri": "https://localhost:8080/"
        }
      },
      "execution_count": 2,
      "outputs": [
        {
          "output_type": "stream",
          "name": "stdout",
          "text": [
            "Mounted at /content/drive\n"
          ]
        }
      ]
    },
    {
      "cell_type": "markdown",
      "source": [
        "Langkah 2 - Pra Pengolahan Data"
      ],
      "metadata": {
        "id": "XhJakYGqEKnH"
      }
    },
    {
      "cell_type": "markdown",
      "source": [
        "Pada tahap ini kita akan sedikit melakukan manipulasi pada citra yang digunakan. Manipulasi yang dilakukan diantaranya adalah normalisasi nilai piksel, koreksi kemiringan, pembesaran (zoom), dan flip."
      ],
      "metadata": {
        "id": "hatEL3pdGOAF"
      }
    },
    {
      "cell_type": "markdown",
      "source": [
        "Langkah 2.1. Pra Pengolahan Data Training"
      ],
      "metadata": {
        "id": "xy2i1XpfESP2"
      }
    },
    {
      "cell_type": "code",
      "source": [
        "train_datagen = ImageDataGenerator(rescale = 1./255,\n",
        "                                   shear_range = 0.2,\n",
        "                                   zoom_range = 0.2,\n",
        "                                   horizontal_flip = True)\n",
        "training_set = train_datagen.flow_from_directory('/content/drive/MyDrive/MachineLearning/Jobsheet11/dataset/training_set',\n",
        "                                                 target_size = (64, 64),\n",
        "                                                 batch_size = 32,\n",
        "                                                 class_mode = 'binary')"
      ],
      "metadata": {
        "id": "YUp8qVibGQkV",
        "colab": {
          "base_uri": "https://localhost:8080/"
        },
        "outputId": "1b146852-995e-41e4-9c99-bc9ba863d81e"
      },
      "execution_count": 3,
      "outputs": [
        {
          "output_type": "stream",
          "name": "stdout",
          "text": [
            "Found 8011 images belonging to 2 classes.\n"
          ]
        }
      ]
    },
    {
      "cell_type": "markdown",
      "source": [
        "Langkah 2.2. Pra Pengolahan Data Testing"
      ],
      "metadata": {
        "id": "rE3QlQEJEXIA"
      }
    },
    {
      "cell_type": "code",
      "source": [
        "test_datagen = ImageDataGenerator(rescale = 1./255)\n",
        "test_set = test_datagen.flow_from_directory('/content/drive/MyDrive/MachineLearning/Jobsheet11/dataset/test_set',\n",
        "                                            target_size = (64, 64),\n",
        "                                            batch_size = 32,\n",
        "                                            class_mode = 'binary')"
      ],
      "metadata": {
        "id": "uxleSrhUGT1H",
        "colab": {
          "base_uri": "https://localhost:8080/"
        },
        "outputId": "82101215-8da6-44d5-ad1a-7dd7bf6e4714"
      },
      "execution_count": 4,
      "outputs": [
        {
          "output_type": "stream",
          "name": "stdout",
          "text": [
            "Found 2013 images belonging to 2 classes.\n"
          ]
        }
      ]
    },
    {
      "cell_type": "markdown",
      "source": [
        "Langkah 3 - Pembuatan Model CNN"
      ],
      "metadata": {
        "id": "z8hRX715EKwy"
      }
    },
    {
      "cell_type": "markdown",
      "source": [
        "Langkah 3.1.  - Inisiasi Model CNN"
      ],
      "metadata": {
        "id": "XoT9Cm6HEXOw"
      }
    },
    {
      "cell_type": "code",
      "source": [
        "cnn = tf.keras.models.Sequential()"
      ],
      "metadata": {
        "id": "bm73IbnVGYxX"
      },
      "execution_count": 5,
      "outputs": []
    },
    {
      "cell_type": "markdown",
      "source": [
        "Langkah 3.2. - Pembuatan Layer Konvolusi 1"
      ],
      "metadata": {
        "id": "Rzwq3YCLEXSI"
      }
    },
    {
      "cell_type": "code",
      "source": [
        "cnn.add(tf.keras.layers.Conv2D(filters=32, kernel_size=3, activation='relu', input_shape=[64, 64, 3]))"
      ],
      "metadata": {
        "id": "TSdQ9rO5GZ_q"
      },
      "execution_count": 6,
      "outputs": []
    },
    {
      "cell_type": "markdown",
      "source": [
        "Langkah 3.3 - Pembuatan Layer Pooling 1"
      ],
      "metadata": {
        "id": "key8Ic0GEXVQ"
      }
    },
    {
      "cell_type": "code",
      "source": [
        "cnn.add(tf.keras.layers.MaxPool2D(pool_size=2, strides=2))"
      ],
      "metadata": {
        "id": "O4WSdS_sGbLT"
      },
      "execution_count": 7,
      "outputs": []
    },
    {
      "cell_type": "markdown",
      "source": [
        "Langkah 3.4 - Pembuatan Layer Konvolusi 2 dan Pooling 2"
      ],
      "metadata": {
        "id": "_8TOeJAGEqnr"
      }
    },
    {
      "cell_type": "code",
      "source": [
        "cnn.add(tf.keras.layers.Conv2D(filters=32, kernel_size=3, activation='relu'))\n",
        "cnn.add(tf.keras.layers.MaxPool2D(pool_size=2, strides=2))"
      ],
      "metadata": {
        "id": "6gxI2uY8Gc0r"
      },
      "execution_count": 8,
      "outputs": []
    },
    {
      "cell_type": "markdown",
      "source": [
        "Langkah 3.5 - Flattening"
      ],
      "metadata": {
        "id": "XZNiflwyEtbV"
      }
    },
    {
      "cell_type": "code",
      "source": [
        "cnn.add(tf.keras.layers.Flatten())"
      ],
      "metadata": {
        "id": "eWT7OsGNGeh7"
      },
      "execution_count": 9,
      "outputs": []
    },
    {
      "cell_type": "markdown",
      "source": [
        "Langkah 3.6 - Fully Connected Layer 1 (Input)"
      ],
      "metadata": {
        "id": "2GxxFrRGEvT6"
      }
    },
    {
      "cell_type": "code",
      "source": [
        "cnn.add(tf.keras.layers.Dense(units=128, activation='relu'))"
      ],
      "metadata": {
        "id": "Qwoz_xLzGf8t"
      },
      "execution_count": 10,
      "outputs": []
    },
    {
      "cell_type": "markdown",
      "source": [
        "Langkah 3.7 - Fully Connected Layer 2 (Output)"
      ],
      "metadata": {
        "id": "1aYgeS28Ex2J"
      }
    },
    {
      "cell_type": "code",
      "source": [
        "cnn.add(tf.keras.layers.Dense(units=1, activation='sigmoid'))"
      ],
      "metadata": {
        "id": "xbkSUy3YGhdG"
      },
      "execution_count": 11,
      "outputs": []
    },
    {
      "cell_type": "markdown",
      "source": [
        "Langkah 3.8 - Compile Model CNN"
      ],
      "metadata": {
        "id": "d_Qlhwr4E1gu"
      }
    },
    {
      "cell_type": "code",
      "source": [
        "cnn.compile(optimizer = 'adam', loss = 'binary_crossentropy', metrics = ['accuracy'])"
      ],
      "metadata": {
        "id": "MKDeWhbdGiue"
      },
      "execution_count": 12,
      "outputs": []
    },
    {
      "cell_type": "markdown",
      "source": [
        "Langkah 4 - Fit CNN"
      ],
      "metadata": {
        "id": "e9TrQz5aEK2D"
      }
    },
    {
      "cell_type": "code",
      "source": [
        "cnn.fit(x = training_set, validation_data = test_set, epochs = 25)"
      ],
      "metadata": {
        "id": "cHX-K0Z1GkrO",
        "colab": {
          "base_uri": "https://localhost:8080/"
        },
        "outputId": "34bc21f6-3b7c-4366-932e-613967322da9"
      },
      "execution_count": null,
      "outputs": [
        {
          "output_type": "stream",
          "name": "stdout",
          "text": [
            "Epoch 1/25\n",
            "251/251 [==============================] - 1239s 5s/step - loss: 0.6730 - accuracy: 0.5893 - val_loss: 0.6318 - val_accuracy: 0.6592\n",
            "Epoch 2/25\n",
            "251/251 [==============================] - 44s 176ms/step - loss: 0.6223 - accuracy: 0.6550 - val_loss: 0.6253 - val_accuracy: 0.6836\n",
            "Epoch 3/25\n",
            "251/251 [==============================] - 43s 172ms/step - loss: 0.5817 - accuracy: 0.6943 - val_loss: 0.5485 - val_accuracy: 0.7243\n",
            "Epoch 4/25\n",
            "251/251 [==============================] - 44s 175ms/step - loss: 0.5477 - accuracy: 0.7220 - val_loss: 0.5506 - val_accuracy: 0.7208\n",
            "Epoch 5/25\n",
            "251/251 [==============================] - 44s 176ms/step - loss: 0.5291 - accuracy: 0.7319 - val_loss: 0.5855 - val_accuracy: 0.6990\n",
            "Epoch 6/25\n",
            "251/251 [==============================] - 44s 174ms/step - loss: 0.4977 - accuracy: 0.7542 - val_loss: 0.4878 - val_accuracy: 0.7640\n",
            "Epoch 7/25\n",
            "251/251 [==============================] - 45s 179ms/step - loss: 0.4670 - accuracy: 0.7747 - val_loss: 0.4884 - val_accuracy: 0.7690\n",
            "Epoch 8/25\n",
            "251/251 [==============================] - 44s 174ms/step - loss: 0.4522 - accuracy: 0.7870 - val_loss: 0.5030 - val_accuracy: 0.7620\n",
            "Epoch 9/25\n",
            "251/251 [==============================] - 44s 174ms/step - loss: 0.4325 - accuracy: 0.7953 - val_loss: 0.4791 - val_accuracy: 0.7839\n",
            "Epoch 10/25\n",
            "251/251 [==============================] - 44s 176ms/step - loss: 0.4229 - accuracy: 0.8013 - val_loss: 0.5474 - val_accuracy: 0.7377\n",
            "Epoch 11/25\n",
            "251/251 [==============================] - 44s 176ms/step - loss: 0.3985 - accuracy: 0.8168 - val_loss: 0.4838 - val_accuracy: 0.7809\n",
            "Epoch 12/25\n",
            "251/251 [==============================] - 44s 174ms/step - loss: 0.3870 - accuracy: 0.8231 - val_loss: 0.5115 - val_accuracy: 0.7655\n",
            "Epoch 13/25\n",
            "251/251 [==============================] - 45s 178ms/step - loss: 0.3753 - accuracy: 0.8316 - val_loss: 0.4751 - val_accuracy: 0.7814\n",
            "Epoch 14/25\n",
            "251/251 [==============================] - 44s 177ms/step - loss: 0.3512 - accuracy: 0.8437 - val_loss: 0.4915 - val_accuracy: 0.7864\n",
            "Epoch 15/25\n",
            "251/251 [==============================] - 44s 177ms/step - loss: 0.3392 - accuracy: 0.8491 - val_loss: 0.4591 - val_accuracy: 0.8003\n",
            "Epoch 16/25\n",
            "251/251 [==============================] - 43s 171ms/step - loss: 0.3237 - accuracy: 0.8589 - val_loss: 0.4630 - val_accuracy: 0.8063\n",
            "Epoch 17/25\n",
            "251/251 [==============================] - 44s 174ms/step - loss: 0.3013 - accuracy: 0.8718 - val_loss: 0.4621 - val_accuracy: 0.8063\n",
            "Epoch 18/25\n",
            "251/251 [==============================] - 44s 175ms/step - loss: 0.2843 - accuracy: 0.8777 - val_loss: 0.4850 - val_accuracy: 0.8028\n",
            "Epoch 19/25\n",
            "251/251 [==============================] - 44s 175ms/step - loss: 0.2746 - accuracy: 0.8872 - val_loss: 0.5086 - val_accuracy: 0.8023\n",
            "Epoch 20/25\n",
            "251/251 [==============================] - 43s 173ms/step - loss: 0.2589 - accuracy: 0.8888 - val_loss: 0.5444 - val_accuracy: 0.7914\n",
            "Epoch 21/25\n",
            "251/251 [==============================] - 44s 177ms/step - loss: 0.2403 - accuracy: 0.9003 - val_loss: 0.5298 - val_accuracy: 0.7824\n",
            "Epoch 22/25\n",
            "107/251 [===========>..................] - ETA: 21s - loss: 0.2136 - accuracy: 0.9162"
          ]
        }
      ]
    },
    {
      "cell_type": "markdown",
      "source": [
        "Langkah 5 - Prediksi dengan 1 Citra"
      ],
      "metadata": {
        "id": "xfhgFGfyEK7R"
      }
    },
    {
      "cell_type": "code",
      "source": [
        "import numpy as np\n",
        "from keras.preprocessing import image\n",
        "test_image = image.load_img('/content/drive/MyDrive/MachineLearning/Jobsheet11/dataset/single_prediction/cat_or_dog_1.jpg', target_size = (64, 64))\n",
        "test_image = image.img_to_array(test_image)\n",
        "test_image = np.expand_dims(test_image, axis = 0)\n",
        "result = cnn.predict(test_image)\n",
        "training_set.class_indices\n",
        "if result[0][0] == 1:\n",
        "  prediction = 'dog'\n",
        "else:\n",
        "  prediction = 'cat'\n",
        "\n",
        "print(prediction)"
      ],
      "metadata": {
        "id": "QaLE3-ToGmwm"
      },
      "execution_count": null,
      "outputs": []
    },
    {
      "cell_type": "markdown",
      "source": [
        "**Praktikum 2 - Klasifikasi Multi-label dengan Data CIFAR**\n",
        "\n",
        "**Desclaimer**: Praktikum ini merupakan tutorial CNN dari Tensorflow yang dapat diakses pada laman https://www.tensorflow.org/tutorials/images/cnn\n",
        "\n",
        "**Deskripsi**\n",
        "\n",
        "Pada praktikum ini kita akan membuat model CNN untuk mengklasifikasikan 10 objek dari dataset CIFAR. Dataset terdiri dari 60.000 citra dan setiap label terdiri dari 6.000 citra. Dataset telah dibagi menjadi 50.000 data training dan 10.000 data testing.\n"
      ],
      "metadata": {
        "id": "y45z65pnFFes"
      }
    },
    {
      "cell_type": "markdown",
      "source": [
        "Langkah 1 - Load Library"
      ],
      "metadata": {
        "id": "mQfu-fi5FY15"
      }
    },
    {
      "cell_type": "code",
      "source": [
        "import tensorflow as tf\n",
        "\n",
        "from tensorflow.keras import datasets, layers, models\n",
        "import matplotlib.pyplot as plt"
      ],
      "metadata": {
        "id": "H6_MIUOKG1hr"
      },
      "execution_count": null,
      "outputs": []
    },
    {
      "cell_type": "markdown",
      "source": [
        "Langkah 2 - Unduh Dataset CIFAR"
      ],
      "metadata": {
        "id": "JF5sGX67Fej_"
      }
    },
    {
      "cell_type": "code",
      "source": [
        "(train_images, train_labels), (test_images, test_labels) = datasets.cifar10.load_data()\n",
        "\n",
        "# Normalize pixel values to be between 0 and 1\n",
        "train_images, test_images = train_images / 255.0, test_images / 255.0"
      ],
      "metadata": {
        "id": "6j_RDjVVG3N7"
      },
      "execution_count": null,
      "outputs": []
    },
    {
      "cell_type": "markdown",
      "source": [
        "Langkah 3 - Verifikasi Data"
      ],
      "metadata": {
        "id": "TKsXejmuFerg"
      }
    },
    {
      "cell_type": "code",
      "source": [
        "class_names = ['airplane', 'automobile', 'bird', 'cat', 'deer',\n",
        "               'dog', 'frog', 'horse', 'ship', 'truck']\n",
        "\n",
        "plt.figure(figsize=(10,10))\n",
        "for i in range(25):\n",
        "    plt.subplot(5,5,i+1)\n",
        "    plt.xticks([])\n",
        "    plt.yticks([])\n",
        "    plt.grid(False)\n",
        "    plt.imshow(train_images[i])\n",
        "     # The CIFAR labels happen to be arrays,\n",
        "     # which is why you need the extra index\n",
        "    plt.xlabel(class_names[train_labels[i][0]])\n",
        "plt.show()"
      ],
      "metadata": {
        "id": "Xt-Rse4uG5Eb"
      },
      "execution_count": null,
      "outputs": []
    },
    {
      "cell_type": "markdown",
      "source": [
        "Langkah 4 - Buat Model CNN"
      ],
      "metadata": {
        "id": "-9HzSbjLFewX"
      }
    },
    {
      "cell_type": "markdown",
      "source": [
        "Langkah 4.1. - Buat Layer Konvolusi"
      ],
      "metadata": {
        "id": "briF7EUHFsTl"
      }
    },
    {
      "cell_type": "code",
      "source": [
        "model = models.Sequential()\n",
        "model.add(layers.Conv2D(32, (3, 3), activation='relu', input_shape=(32, 32, 3)))\n",
        "model.add(layers.MaxPooling2D((2, 2)))\n",
        "model.add(layers.Conv2D(64, (3, 3), activation='relu'))\n",
        "model.add(layers.MaxPooling2D((2, 2)))\n",
        "model.add(layers.Conv2D(64, (3, 3), activation='relu'))"
      ],
      "metadata": {
        "id": "rg6PUnmnQBfR"
      },
      "execution_count": null,
      "outputs": []
    },
    {
      "cell_type": "markdown",
      "source": [
        "Langkah 4.2. - Cek Arsitektur Konvolusi"
      ],
      "metadata": {
        "id": "c8CKl4tzFwNu"
      }
    },
    {
      "cell_type": "code",
      "source": [
        "model.summary()"
      ],
      "metadata": {
        "id": "GktRKHnWG-Gy"
      },
      "execution_count": null,
      "outputs": []
    },
    {
      "cell_type": "markdown",
      "source": [
        "Langkah 4.3. - Tambahkan Layer Fully Connected"
      ],
      "metadata": {
        "id": "VZGn0f-7FyED"
      }
    },
    {
      "cell_type": "code",
      "source": [
        "model.add(layers.Flatten())\n",
        "model.add(layers.Dense(64, activation='relu'))\n",
        "model.add(layers.Dense(10))"
      ],
      "metadata": {
        "id": "xG3ASAxOIPzo"
      },
      "execution_count": null,
      "outputs": []
    },
    {
      "cell_type": "markdown",
      "source": [
        "Langkah 4.4. - Cek Arsitektur Model CNN"
      ],
      "metadata": {
        "id": "TESehGYxF1jR"
      }
    },
    {
      "cell_type": "code",
      "source": [
        "model.summary()"
      ],
      "metadata": {
        "id": "bKvLxsKAHC7D"
      },
      "execution_count": null,
      "outputs": []
    },
    {
      "cell_type": "markdown",
      "source": [
        "Langkah 4.5. - Compile Model CNN"
      ],
      "metadata": {
        "id": "igDxLbVGF580"
      }
    },
    {
      "cell_type": "code",
      "source": [
        "model.compile(optimizer='adam',\n",
        "              loss=tf.keras.losses.SparseCategoricalCrossentropy(from_logits=True),\n",
        "              metrics=['accuracy'])"
      ],
      "metadata": {
        "id": "TLzWzWRQHEw_"
      },
      "execution_count": null,
      "outputs": []
    },
    {
      "cell_type": "markdown",
      "source": [
        "Langkah 5 - Fit Model"
      ],
      "metadata": {
        "id": "Ej8oDeYeFezn"
      }
    },
    {
      "cell_type": "code",
      "source": [
        "history = model.fit(train_images, train_labels, epochs=10,\n",
        "                    validation_data=(test_images, test_labels))"
      ],
      "metadata": {
        "colab": {
          "base_uri": "https://localhost:8080/"
        },
        "id": "50r5zlduHGcr",
        "outputId": "8fe2abae-1d10-4f67-b076-d5c5940710f0"
      },
      "execution_count": 23,
      "outputs": [
        {
          "output_type": "stream",
          "name": "stdout",
          "text": [
            "Epoch 1/10\n",
            "1563/1563 [==============================] - 14s 9ms/step - loss: 1.5322 - accuracy: 0.4412 - val_loss: 1.2413 - val_accuracy: 0.5568\n",
            "Epoch 2/10\n",
            "1563/1563 [==============================] - 13s 8ms/step - loss: 1.1717 - accuracy: 0.5835 - val_loss: 1.1007 - val_accuracy: 0.6060\n",
            "Epoch 3/10\n",
            "1563/1563 [==============================] - 12s 8ms/step - loss: 1.0180 - accuracy: 0.6418 - val_loss: 0.9975 - val_accuracy: 0.6496\n",
            "Epoch 4/10\n",
            "1563/1563 [==============================] - 12s 8ms/step - loss: 0.9207 - accuracy: 0.6771 - val_loss: 0.9602 - val_accuracy: 0.6598\n",
            "Epoch 5/10\n",
            "1563/1563 [==============================] - 12s 8ms/step - loss: 0.8413 - accuracy: 0.7042 - val_loss: 0.9257 - val_accuracy: 0.6781\n",
            "Epoch 6/10\n",
            "1563/1563 [==============================] - 12s 8ms/step - loss: 0.7849 - accuracy: 0.7225 - val_loss: 0.8726 - val_accuracy: 0.6942\n",
            "Epoch 7/10\n",
            "1563/1563 [==============================] - 12s 8ms/step - loss: 0.7329 - accuracy: 0.7449 - val_loss: 0.8555 - val_accuracy: 0.7013\n",
            "Epoch 8/10\n",
            "1563/1563 [==============================] - 13s 8ms/step - loss: 0.6880 - accuracy: 0.7570 - val_loss: 0.8828 - val_accuracy: 0.6982\n",
            "Epoch 9/10\n",
            "1563/1563 [==============================] - 13s 9ms/step - loss: 0.6536 - accuracy: 0.7704 - val_loss: 0.8635 - val_accuracy: 0.7041\n",
            "Epoch 10/10\n",
            "1563/1563 [==============================] - 13s 8ms/step - loss: 0.6164 - accuracy: 0.7829 - val_loss: 0.8798 - val_accuracy: 0.7035\n"
          ]
        }
      ]
    },
    {
      "cell_type": "markdown",
      "source": [
        "Langkah 6 - Evaluasi Model"
      ],
      "metadata": {
        "id": "SaX3VWWqFgWC"
      }
    },
    {
      "cell_type": "code",
      "source": [
        "plt.plot(history.history['accuracy'], label='accuracy')\n",
        "plt.plot(history.history['val_accuracy'], label = 'val_accuracy')\n",
        "plt.xlabel('Epoch')\n",
        "plt.ylabel('Accuracy')\n",
        "plt.ylim([0.5, 1])\n",
        "plt.legend(loc='lower right')\n",
        "\n",
        "test_loss, test_acc = model.evaluate(test_images, test_labels, verbose=2)"
      ],
      "metadata": {
        "colab": {
          "base_uri": "https://localhost:8080/",
          "height": 472
        },
        "id": "_ATHk_zpHH_h",
        "outputId": "15143aaf-e14c-4958-c8d1-bef7f776e977"
      },
      "execution_count": 24,
      "outputs": [
        {
          "output_type": "stream",
          "name": "stdout",
          "text": [
            "313/313 - 1s - loss: 0.8798 - accuracy: 0.7035 - 1s/epoch - 3ms/step\n"
          ]
        },
        {
          "output_type": "display_data",
          "data": {
            "text/plain": [
              "<Figure size 640x480 with 1 Axes>"
            ],
            "image/png": "[encoded data removed]"
          },
          "metadata": {}
        }
      ]
    },
    {
      "cell_type": "markdown",
      "source": [
        "Langkah 7 - Cetak Hasil Akurasi"
      ],
      "metadata": {
        "id": "sxuCaW8oFgef"
      }
    },
    {
      "cell_type": "code",
      "source": [
        "print(test_acc)"
      ],
      "metadata": {
        "colab": {
          "base_uri": "https://localhost:8080/"
        },
        "id": "Pg_Zc-ZZFcwd",
        "outputId": "ba9ea04c-6882-4802-b182-4ae496835d60"
      },
      "execution_count": 25,
      "outputs": [
        {
          "output_type": "stream",
          "name": "stdout",
          "text": [
            "0.703499972820282\n"
          ]
        }
      ]
    },
    {
      "cell_type": "markdown",
      "source": [
        "##Tugas Praktikum"
      ],
      "metadata": {
        "id": "VHh5GtTcPKls"
      }
    },
    {
      "cell_type": "markdown",
      "source": [
        "Modifikasi model CNN pada praktikum 2 sehingga didapatkan akurasi testing lebih dari 80%."
      ],
      "metadata": {
        "id": "qOa--W5APWGS"
      }
    },
    {
      "cell_type": "code",
      "source": [
        "model_2 =  models.Sequential()\n",
        "\n",
        "model_2.add(layers.Conv2D(32, (3, 3), activation='relu', padding='same', input_shape=(32, 32, 3)))\n",
        "model_2.add(layers.Conv2D(32, (3, 3), activation='relu', padding='same'))\n",
        "model_2.add(layers.MaxPooling2D((2, 2)))\n",
        "model_2.add(layers.Conv2D(64, (3, 3), activation='relu', padding='same'))\n",
        "model_2.add(layers.Conv2D(64, (3, 3), activation='relu', padding='same'))\n",
        "model_2.add(layers.MaxPooling2D((2, 2)))\n",
        "model_2.add(layers.Conv2D(128, (3, 3), activation='relu', padding='same'))\n",
        "model_2.add(layers.Conv2D(128, (3, 3), activation='relu', padding='same'))\n",
        "model_2.add(layers.MaxPooling2D((2, 2)))\n",
        "model_2.add(layers.Flatten())\n",
        "model_2.add(layers.Dense(128, activation='relu'))\n",
        "model_2.add(layers.Dense(10, activation='softmax'))\n",
        "\n",
        "model_2.summary()"
      ],
      "metadata": {
        "id": "ESA5y2Hr4nA3",
        "outputId": "8fe73fb5-deae-4a57-9e9e-5fc4001ce89d",
        "colab": {
          "base_uri": "https://localhost:8080/"
        }
      },
      "execution_count": 26,
      "outputs": [
        {
          "output_type": "stream",
          "name": "stdout",
          "text": [
            "Model: \"sequential_2\"\n",
            "_________________________________________________________________\n",
            " Layer (type)                Output Shape              Param #   \n",
            "=================================================================\n",
            " conv2d_5 (Conv2D)           (None, 32, 32, 32)        896       \n",
            "                                                                 \n",
            " conv2d_6 (Conv2D)           (None, 32, 32, 32)        9248      \n",
            "                                                                 \n",
            " max_pooling2d_4 (MaxPoolin  (None, 16, 16, 32)        0         \n",
            " g2D)                                                            \n",
            "                                                                 \n",
            " conv2d_7 (Conv2D)           (None, 16, 16, 64)        18496     \n",
            "                                                                 \n",
            " conv2d_8 (Conv2D)           (None, 16, 16, 64)        36928     \n",
            "                                                                 \n",
            " max_pooling2d_5 (MaxPoolin  (None, 8, 8, 64)          0         \n",
            " g2D)                                                            \n",
            "                                                                 \n",
            " conv2d_9 (Conv2D)           (None, 8, 8, 128)         73856     \n",
            "                                                                 \n",
            " conv2d_10 (Conv2D)          (None, 8, 8, 128)         147584    \n",
            "                                                                 \n",
            " max_pooling2d_6 (MaxPoolin  (None, 4, 4, 128)         0         \n",
            " g2D)                                                            \n",
            "                                                                 \n",
            " flatten_2 (Flatten)         (None, 2048)              0         \n",
            "                                                                 \n",
            " dense_4 (Dense)             (None, 128)               262272    \n",
            "                                                                 \n",
            " dense_5 (Dense)             (None, 10)                1290      \n",
            "                                                                 \n",
            "=================================================================\n",
            "Total params: 550570 (2.10 MB)\n",
            "Trainable params: 550570 (2.10 MB)\n",
            "Non-trainable params: 0 (0.00 Byte)\n",
            "_________________________________________________________________\n"
          ]
        }
      ]
    },
    {
      "cell_type": "code",
      "source": [
        "# history = model_2.fit(train_images, train_labels, epochs=10,\n",
        "#                     validation_data=(test_images, test_labels))\n",
        "\n",
        "model_2.compile(optimizer='adam',\n",
        "              loss=tf.keras.losses.SparseCategoricalCrossentropy(from_logits=True),\n",
        "              metrics=['accuracy'])\n",
        "\n",
        "plt.plot(history.history['accuracy'], label='accuracy')\n",
        "plt.plot(history.history['val_accuracy'], label = 'val_accuracy')\n",
        "plt.xlabel('Epoch')\n",
        "plt.ylabel('Accuracy')\n",
        "plt.ylim([0.5, 1])\n",
        "plt.legend(loc='lower right')\n",
        "\n",
        "test_loss, test_acc = model_2.evaluate(test_images, test_labels, verbose=2)"
      ],
      "metadata": {
        "id": "oKLNhvGdKG1T",
        "outputId": "e40982a0-b1e8-4cf9-f18a-5572887637a0",
        "colab": {
          "base_uri": "https://localhost:8080/",
          "height": 527
        }
      },
      "execution_count": 33,
      "outputs": [
        {
          "output_type": "stream",
          "name": "stderr",
          "text": [
            "/usr/local/lib/python3.10/dist-packages/keras/src/backend.py:5727: UserWarning: \"`sparse_categorical_crossentropy` received `from_logits=True`, but the `output` argument was produced by a Softmax activation and thus does not represent logits. Was this intended?\n",
            "  output, from_logits = _get_logits(\n"
          ]
        },
        {
          "output_type": "stream",
          "name": "stdout",
          "text": [
            "313/313 - 3s - loss: 2.3034 - accuracy: 0.1000 - 3s/epoch - 9ms/step\n"
          ]
        },
        {
          "output_type": "display_data",
          "data": {
            "text/plain": [
              "<Figure size 640x480 with 1 Axes>"
            ],
            "image/png": "[encoded data removed]"
          },
          "metadata": {}
        }
      ]
    },
    {
      "cell_type": "code",
      "source": [
        "model_3 =  models.Sequential()\n",
        "\n",
        "model_3.add(layers.Conv2D(32, (3, 3), activation='relu', input_shape=(32, 32, 3)))\n",
        "model_3.add(layers.BatchNormalization())\n",
        "model_3.add(layers.Conv2D(64, (3, 3), activation='relu', padding='same'))\n",
        "model_3.add(layers.BatchNormalization())\n",
        "model_3.add(layers.MaxPooling2D((2, 2)))\n",
        "\n",
        "model_3.add(layers.Conv2D(128, (3, 3), activation='relu', padding='same'))\n",
        "model_3.add(layers.BatchNormalization())\n",
        "model_3.add(layers.Conv2D(128, (3, 3), activation='relu', padding='same'))\n",
        "model_3.add(layers.BatchNormalization())\n",
        "model_3.add(layers.MaxPooling2D((2, 2)))\n",
        "\n",
        "model_3.add(layers.Conv2D(256, (3, 3), activation='relu', padding='same'))\n",
        "model_3.add(layers.BatchNormalization())\n",
        "model_3.add(layers.Conv2D(256, (3, 3), activation='relu', padding='same'))\n",
        "model_3.add(layers.BatchNormalization())\n",
        "model_3.add(layers.MaxPooling2D((2, 2)))\n",
        "\n",
        "model_3.add(layers.Flatten())\n",
        "model_3.add(layers.Dropout(0.2))\n",
        "model_3.add(layers.Dense(1024, activation='relu'))\n",
        "model_3.add(layers.BatchNormalization())\n",
        "model_3.add(layers.Dense(512, activation='relu'))\n",
        "model_3.add(layers.BatchNormalization())\n",
        "model_3.add(layers.Dense(10, activation='softmax'))\n",
        "\n",
        "model_3.summary()"
      ],
      "metadata": {
        "id": "13UKX6tOLaZ3",
        "outputId": "633003dc-7032-41c3-be25-5ab0ecf9e99a",
        "colab": {
          "base_uri": "https://localhost:8080/"
        }
      },
      "execution_count": 34,
      "outputs": [
        {
          "output_type": "stream",
          "name": "stdout",
          "text": [
            "Model: \"sequential_3\"\n",
            "_________________________________________________________________\n",
            " Layer (type)                Output Shape              Param #   \n",
            "=================================================================\n",
            " conv2d_11 (Conv2D)          (None, 30, 30, 32)        896       \n",
            "                                                                 \n",
            " batch_normalization (Batch  (None, 30, 30, 32)        128       \n",
            " Normalization)                                                  \n",
            "                                                                 \n",
            " conv2d_12 (Conv2D)          (None, 30, 30, 64)        18496     \n",
            "                                                                 \n",
            " batch_normalization_1 (Bat  (None, 30, 30, 64)        256       \n",
            " chNormalization)                                                \n",
            "                                                                 \n",
            " max_pooling2d_7 (MaxPoolin  (None, 15, 15, 64)        0         \n",
            " g2D)                                                            \n",
            "                                                                 \n",
            " conv2d_13 (Conv2D)          (None, 15, 15, 128)       73856     \n",
            "                                                                 \n",
            " batch_normalization_2 (Bat  (None, 15, 15, 128)       512       \n",
            " chNormalization)                                                \n",
            "                                                                 \n",
            " conv2d_14 (Conv2D)          (None, 15, 15, 128)       147584    \n",
            "                                                                 \n",
            " batch_normalization_3 (Bat  (None, 15, 15, 128)       512       \n",
            " chNormalization)                                                \n",
            "                                                                 \n",
            " max_pooling2d_8 (MaxPoolin  (None, 7, 7, 128)         0         \n",
            " g2D)                                                            \n",
            "                                                                 \n",
            " conv2d_15 (Conv2D)          (None, 7, 7, 256)         295168    \n",
            "                                                                 \n",
            " batch_normalization_4 (Bat  (None, 7, 7, 256)         1024      \n",
            " chNormalization)                                                \n",
            "                                                                 \n",
            " conv2d_16 (Conv2D)          (None, 7, 7, 256)         590080    \n",
            "                                                                 \n",
            " batch_normalization_5 (Bat  (None, 7, 7, 256)         1024      \n",
            " chNormalization)                                                \n",
            "                                                                 \n",
            " max_pooling2d_9 (MaxPoolin  (None, 3, 3, 256)         0         \n",
            " g2D)                                                            \n",
            "                                                                 \n",
            " flatten_3 (Flatten)         (None, 2304)              0         \n",
            "                                                                 \n",
            " dropout (Dropout)           (None, 2304)              0         \n",
            "                                                                 \n",
            " dense_6 (Dense)             (None, 1024)              2360320   \n",
            "                                                                 \n",
            " batch_normalization_6 (Bat  (None, 1024)              4096      \n",
            " chNormalization)                                                \n",
            "                                                                 \n",
            " dense_7 (Dense)             (None, 512)               524800    \n",
            "                                                                 \n",
            " batch_normalization_7 (Bat  (None, 512)               2048      \n",
            " chNormalization)                                                \n",
            "                                                                 \n",
            " dense_8 (Dense)             (None, 10)                5130      \n",
            "                                                                 \n",
            "=================================================================\n",
            "Total params: 4025930 (15.36 MB)\n",
            "Trainable params: 4021130 (15.34 MB)\n",
            "Non-trainable params: 4800 (18.75 KB)\n",
            "_________________________________________________________________\n"
          ]
        }
      ]
    },
    {
      "cell_type": "code",
      "source": [
        "model_3.compile(optimizer='adam',\n",
        "              loss=tf.keras.losses.SparseCategoricalCrossentropy(from_logits=True),\n",
        "              metrics=['accuracy'])\n",
        "\n",
        "plt.plot(history.history['accuracy'], label='accuracy')\n",
        "plt.plot(history.history['val_accuracy'], label = 'val_accuracy')\n",
        "plt.xlabel('Epoch')\n",
        "plt.ylabel('Accuracy')\n",
        "plt.ylim([0.5, 1])\n",
        "plt.legend(loc='lower right')\n",
        "\n",
        "test_loss, test_acc = model_3.evaluate(test_images, test_labels, verbose=2)"
      ],
      "metadata": {
        "id": "N4kD61FzLyD2",
        "outputId": "82f7b8ae-e215-446f-f427-d15269a67ddb",
        "colab": {
          "base_uri": "https://localhost:8080/",
          "height": 527
        }
      },
      "execution_count": 36,
      "outputs": [
        {
          "output_type": "stream",
          "name": "stderr",
          "text": [
            "/usr/local/lib/python3.10/dist-packages/keras/src/backend.py:5727: UserWarning: \"`sparse_categorical_crossentropy` received `from_logits=True`, but the `output` argument was produced by a Softmax activation and thus does not represent logits. Was this intended?\n",
            "  output, from_logits = _get_logits(\n"
          ]
        },
        {
          "output_type": "stream",
          "name": "stdout",
          "text": [
            "313/313 - 5s - loss: 2.3031 - accuracy: 0.1013 - 5s/epoch - 17ms/step\n"
          ]
        },
        {
          "output_type": "display_data",
          "data": {
            "text/plain": [
              "<Figure size 640x480 with 1 Axes>"
            ],
            "image/png": "[encoded data removed]"
          },
          "metadata": {}
        }
      ]
    },
    {
      "cell_type": "markdown",
      "source": [
        "Buatlah model CNN untuk klasifikasi dataset MNIST."
      ],
      "metadata": {
        "id": "VsAuOmERPv1o"
      }
    },
    {
      "cell_type": "code",
      "source": [
        "from keras.datasets import mnist\n",
        "from keras.utils import to_categorical\n",
        "from keras.models import Sequential\n",
        "from keras.layers import Conv2D, MaxPooling2D, Flatten, Dense\n",
        "\n",
        "# Load and preprocess dataset\n",
        "(train_images, train_labels), (test_images, test_labels) = mnist.load_data()\n",
        "\n",
        "# Normalize and reshape the data\n",
        "train_images = train_images.reshape((60000, 28, 28, 1)).astype('float32') / 255\n",
        "test_images = test_images.reshape((10000, 28, 28, 1)).astype('float32') / 255\n",
        "\n",
        "train_labels = to_categorical(train_labels)\n",
        "test_labels = to_categorical(test_labels)\n",
        "\n",
        "# Create the CNN model\n",
        "model = Sequential()\n",
        "model.add(Conv2D(32, (3, 3), activation='relu', input_shape=(28, 28, 1)))\n",
        "model.add(MaxPooling2D((2, 2)))\n",
        "model.add(Conv2D(64, (3, 3), activation='relu'))\n",
        "model.add(MaxPooling2D((2, 2)))\n",
        "model.add(Conv2D(64, (3, 3), activation='relu'))\n",
        "model.add(Flatten())\n",
        "model.add(Dense(64, activation='relu'))\n",
        "model.add(Dense(10, activation='softmax'))\n",
        "\n",
        "# Compile the model\n",
        "model.compile(optimizer='adam', loss='categorical_crossentropy', metrics=['accuracy'])\n",
        "\n",
        "# Train the model\n",
        "model.fit(train_images, train_labels, epochs=5, batch_size=64, validation_data=(test_images, test_labels))\n",
        "\n",
        "# Evaluate the model\n",
        "test_loss, test_accuracy = model.evaluate(test_images, test_labels)\n",
        "print(f'Test accuracy: {test_accuracy}')\n"
      ],
      "metadata": {
        "id": "e5rEvoTBOqCK",
        "outputId": "218f3a86-7164-4de2-ef18-01cd9b4f18d7",
        "colab": {
          "base_uri": "https://localhost:8080/"
        }
      },
      "execution_count": 37,
      "outputs": [
        {
          "output_type": "stream",
          "name": "stdout",
          "text": [
            "Downloading data from https://storage.googleapis.com/tensorflow/tf-keras-datasets/mnist.npz\n",
            "11490434/11490434 [==============================] - 0s 0us/step\n",
            "Epoch 1/5\n",
            "938/938 [==============================] - 9s 9ms/step - loss: 0.1798 - accuracy: 0.9464 - val_loss: 0.0482 - val_accuracy: 0.9847\n",
            "Epoch 2/5\n",
            "938/938 [==============================] - 8s 9ms/step - loss: 0.0506 - accuracy: 0.9849 - val_loss: 0.0366 - val_accuracy: 0.9876\n",
            "Epoch 3/5\n",
            "938/938 [==============================] - 8s 9ms/step - loss: 0.0352 - accuracy: 0.9891 - val_loss: 0.0296 - val_accuracy: 0.9902\n",
            "Epoch 4/5\n",
            "938/938 [==============================] - 8s 9ms/step - loss: 0.0290 - accuracy: 0.9909 - val_loss: 0.0321 - val_accuracy: 0.9901\n",
            "Epoch 5/5\n",
            "938/938 [==============================] - 8s 9ms/step - loss: 0.0221 - accuracy: 0.9929 - val_loss: 0.0252 - val_accuracy: 0.9914\n",
            "313/313 [==============================] - 1s 3ms/step - loss: 0.0252 - accuracy: 0.9914\n",
            "Test accuracy: 0.9914000034332275\n"
          ]
        }
      ]
    }
  ]
}