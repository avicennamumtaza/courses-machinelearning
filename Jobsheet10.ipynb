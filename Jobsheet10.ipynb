{
  "nbformat": 4,
  "nbformat_minor": 0,
  "metadata": {
    "colab": {
      "provenance": [],
      "gpuType": "V28",
      "include_colab_link": true
    },
    "kernelspec": {
      "name": "python3",
      "display_name": "Python 3"
    },
    "language_info": {
      "name": "python"
    },
    "accelerator": "TPU"
  },
  "cells": [
    {
      "cell_type": "markdown",
      "metadata": {
        "id": "view-in-github",
        "colab_type": "text"
      },
      "source": [
        "<a href=\"https://colab.research.google.com/github/avicennamumtaza/courses-machinelearning/blob/main/Jobsheet10.ipynb\" target=\"_parent\"><img src=\"https://colab.research.google.com/assets/colab-badge.svg\" alt=\"Open In Colab\"/></a>"
      ]
    },
    {
      "cell_type": "markdown",
      "source": [
        "# Jobsheet RNN"
      ],
      "metadata": {
        "id": "-1gnhF2_gATz"
      }
    },
    {
      "cell_type": "markdown",
      "source": [
        "Nama: Avicenna Mumtaza \\\n",
        "Prodi : D4 Teknik Informatika \\\n",
        "Kelas/Absen : 3C/05 \\\n",
        "NIM: 2241720112"
      ],
      "metadata": {
        "id": "6pWBMqY6CxdH"
      }
    },
    {
      "cell_type": "markdown",
      "source": [
        "# Praktikum 1"
      ],
      "metadata": {
        "id": "HG5fEoeSG1Em"
      }
    },
    {
      "cell_type": "code",
      "execution_count": 1,
      "metadata": {
        "id": "HGyCywIBCWVl"
      },
      "outputs": [],
      "source": [
        "import numpy as np\n",
        "import tensorflow_datasets as tfds\n",
        "import tensorflow as tf\n",
        "\n",
        "tfds.disable_progress_bar()"
      ]
    },
    {
      "cell_type": "code",
      "source": [
        "import matplotlib.pyplot as plt\n",
        "\n",
        "def plot_graphs(history, metric):\n",
        "  plt.plot(history.history[metric])\n",
        "  plt.plot(history.history['val_'+metric], '')\n",
        "  plt.xlabel(\"Epochs\")\n",
        "  plt.ylabel(metric)\n",
        "  plt.legend([metric, 'val_'+metric])"
      ],
      "metadata": {
        "id": "uGUtrJrZCw3S"
      },
      "execution_count": 2,
      "outputs": []
    },
    {
      "cell_type": "markdown",
      "source": [
        "## Load Dataset"
      ],
      "metadata": {
        "id": "mnJjrLsIgTAo"
      }
    },
    {
      "cell_type": "code",
      "source": [
        "dataset, info = tfds.load('imdb_reviews', with_info=True,\n",
        "                          as_supervised=True)\n",
        "train_dataset, test_dataset = dataset['train'], dataset['test']\n",
        "\n",
        "train_dataset.element_spec"
      ],
      "metadata": {
        "colab": {
          "base_uri": "https://localhost:8080/"
        },
        "id": "DWgCX6u2C7CY",
        "outputId": "db7819cd-6ac5-4ee3-bb9a-0d64710c63bf"
      },
      "execution_count": 3,
      "outputs": [
        {
          "output_type": "stream",
          "name": "stdout",
          "text": [
            "Downloading and preparing dataset 80.23 MiB (download: 80.23 MiB, generated: Unknown size, total: 80.23 MiB) to /root/tensorflow_datasets/imdb_reviews/plain_text/1.0.0...\n",
            "Dataset imdb_reviews downloaded and prepared to /root/tensorflow_datasets/imdb_reviews/plain_text/1.0.0. Subsequent calls will reuse this data.\n"
          ]
        },
        {
          "output_type": "execute_result",
          "data": {
            "text/plain": [
              "(TensorSpec(shape=(), dtype=tf.string, name=None),\n",
              " TensorSpec(shape=(), dtype=tf.int64, name=None))"
            ]
          },
          "metadata": {},
          "execution_count": 3
        }
      ]
    },
    {
      "cell_type": "code",
      "source": [
        "for example, label in train_dataset.take(1):\n",
        "  print('text: ', example.numpy())\n",
        "  print('label: ', label.numpy())"
      ],
      "metadata": {
        "colab": {
          "base_uri": "https://localhost:8080/"
        },
        "id": "DUB-VOUBC_-b",
        "outputId": "37736670-84de-4f01-e91a-858f8edc3e5a"
      },
      "execution_count": 4,
      "outputs": [
        {
          "output_type": "stream",
          "name": "stdout",
          "text": [
            "text:  b\"This was an absolutely terrible movie. Don't be lured in by Christopher Walken or Michael Ironside. Both are great actors, but this must simply be their worst role in history. Even their great acting could not redeem this movie's ridiculous storyline. This movie is an early nineties US propaganda piece. The most pathetic scenes were those when the Columbian rebels were making their cases for revolutions. Maria Conchita Alonso appeared phony, and her pseudo-love affair with Walken was nothing but a pathetic emotional plug in a movie that was devoid of any real meaning. I am disappointed that there are movies like this, ruining actor's like Christopher Walken's good name. I could barely sit through it.\"\n",
            "label:  0\n"
          ]
        }
      ]
    },
    {
      "cell_type": "code",
      "source": [
        "BUFFER_SIZE = 10000\n",
        "BATCH_SIZE = 64\n",
        "\n",
        "train_dataset = train_dataset.shuffle(BUFFER_SIZE).batch(BATCH_SIZE).prefetch(tf.data.AUTOTUNE)\n",
        "test_dataset = test_dataset.batch(BATCH_SIZE).prefetch(tf.data.AUTOTUNE)\n",
        "\n",
        "for example, label in train_dataset.take(1):\n",
        "  print('texts: ', example.numpy()[:3])\n",
        "  print()\n",
        "  print('labels: ', label.numpy()[:3])\n"
      ],
      "metadata": {
        "colab": {
          "base_uri": "https://localhost:8080/"
        },
        "id": "d8RQTpNDDCtH",
        "outputId": "f757fdef-8ed7-4af7-e14e-ac57f9da40dc"
      },
      "execution_count": 5,
      "outputs": [
        {
          "output_type": "stream",
          "name": "stdout",
          "text": [
            "texts:  [b'I\\'m afraid that you\\'ll find that the huge majority of people who rate this movie as a 10 are highly Christian. I am not. If you are looking for a Christian movie, I recommend this film. If you are looking for a good general movie, I\\'m afraid you\\'ll need to go elsewhere.<br /><br />I was annoyed by the characters, and their illogical behaviour. The premise of the movie is that the teaching of morality without teaching that it was Jesus who is the basis of morality is itself wrong. One scene shows the main character telling a boy that it is wrong to steal, and then the character goes on to say that it was Jesus who taught us this. I find that offensive: are we to believe that \"thou shalt not steal\" came from Jesus? I suppose he wrote the Ten Commandments? And stealing was acceptable before that? I rented the movie from Netflix. I should have realized the nature of the movie from the comments. Oh well.'\n",
            " b'I initially bought this DVD because it had SRK and Aishwarya Rai on the cover and I thought, hey! another film starring Aishu and Shah Rukh, little did I know that Aishwarya would only appear in an item number in the last quarter of the film in a song which she shares with SRK and helps introduce his character who is in the film for about just 15 minutes. Shakti is a film about a mother\\'s love and endurance. It\\'s a film about transformations, ignorance, coming of age, stepping into the know and embracing the harsh realities of life. The item number in which SRK and Aishu appear in has nothing to do with the movie. It\\'s actually a dream sequence that occurs while SRK\\'s drunken character is knocked unconscious by booze. He dreams that Aishwarya Rai is this sexy street girl who shows up at his favourite hangout spot one day, dressed scantily and begins to seduce him. The title of the song is \\'Ishq Kamina\\' (loosely translated as \"Love\\'s a bitch!\") and it is just plain smoking hot! Don\\'t miss it.'\n",
            " b'The 63 year reign of Queen Victoria is perhaps one of the most documented and popularly known historical reigns in British history. On the one hand, her story lacks the theatrics of earlier royals thanks to a change in social climate and attitudes, and on the other her story is one that perpetuates because it is notably human. Taking on the earlier years of her life where the budding romance between herself and the German Prince Albert was taking forefront, director Jean-Marc Vall\\xc3\\xa9e who has only until recently remained in the unbeknownst shadows of the industry here takes Victoria\\'s story and captures that human element so vital to her legacy. It\\'s a story that feels extremely humble considering its exuberant background, and yet that\\'s partly what gives it a distinct edge here that separates it from the usual fare.<br /><br />Taking a very direct and focused approach that centres in on a brief five or so year period between her ascension and marriage to Albert, The Young Victoria does what so little period pieces of this nature offer. Instead of attempting a sprawling encapsulation of such a figure\\'s entire life, Vall\\xc3\\xa9e instead opts to show one of the lesser known intricacies of Victoria\\'s early years which are easily overlooked in favour of the more publicly known accolades. The result is a feature that may disgruntle historians thanks to its relatively flippant regards to facts and the like, yet never to let document get in the way of extracting a compelling story, writer Julian Fellowes sticks to his guns and delivers a slightly romanticised yet convincing portrayal. Vall\\xc3\\xa9e takes this and runs, making sure to fully capitalise on those elements with enough restraint to maintain integrity in regards to both the history involved and the viewer watching.<br /><br />A major part in the joy of watching The Young Victoria play out however simply lies in the production values granted here that bring early 1800\\'s Regal Britain to life with a vigorous realism so rarely achieved quite so strikingly by genre films. Everything from the costume designs, sets, hair styles, lighting and photography accentuates the grandiose background inherent to Victoria\\'s story without ever over-encumbering it. Indeed, while watching Vall\\xc3\\xa9e\\'s interpretation come to life here it is very hard not to be sucked in solely through the aesthetics that permeates the visual element; and then there\\'s the film\\'s score also which works tremendously to further the very elegant yet personal tones that dominate Fellowes\\' script. Entwining the works of Schubert and Strauss into Victoria and Albert\\'s story not only works as a point of reference for the characters to play with, but also melds to the work with an elegance and refrain that echoes composer Ilan Eshkeri\\'s original work just as well.<br /><br />Yet for all the poignant compositions, lush backdrops and immaculate costumes that punctuate every scene, the single most important factor here\\xc2\\x97and indeed to most period dramas\\xc2\\x97are the performances of the cast and how they help bring the world they exist in to life. Thankfully The Young Victoria is blessed with an equally immaculate ensemble of thespians both young and old that do a fantastic job of doing just that. Between the sweet, budding romance of Victoria (Emily Blunt) and Albert (Rupert Friend) and the somewhat antagonistic struggles of her advisors and the like (spearheaded by a terrific Mark Strong and Paul Bettany), the conflicts and warmth so prevalent to Fellowe\\'s screenplay are conveyed perfectly here by all involved which helps keep the movie from being a plastic \"nice to look at but dim underneath\" affair so common with these outings.<br /><br />In the end, it\\'s hard to fault a work such as The Young Victoria. It\\'s got a perfectly touching and human sense of affection within its perfectly paced romance, plus some historical significance that plays as an intriguing source of interest for those in the audience keen on such details. Of course, it may not take the cinematic world by storm and there lacks a certain significance to its overall presence that stops it from ever becoming more than just a poignantly restrained romantic period drama; yet in a sense this is what makes it enjoyable. Vall\\xc3\\xa9e never seems to be striving for grandeur, nor does he seem content at making a run-of-the-mill escapist piece for aficionados. Somewhere within this gray middle-ground lies The Young Victoria, sure to cater to genre fans and those a little more disillusioned by the usual productions; beautiful, memorable but most of all, human.<br /><br />- A review by Jamie Robert Ward (http://www.invocus.net)']\n",
            "\n",
            "labels:  [0 1 1]\n"
          ]
        }
      ]
    },
    {
      "cell_type": "code",
      "source": [
        "VOCAB_SIZE = 1000\n",
        "encoder = tf.keras.layers.TextVectorization(\n",
        "    max_tokens=VOCAB_SIZE)\n",
        "encoder.adapt(train_dataset.map(lambda text, label: text))"
      ],
      "metadata": {
        "id": "oIgOEdN6DDVe"
      },
      "execution_count": 6,
      "outputs": []
    },
    {
      "cell_type": "code",
      "source": [
        "vocab = np.array(encoder.get_vocabulary())\n",
        "vocab[:20]"
      ],
      "metadata": {
        "colab": {
          "base_uri": "https://localhost:8080/"
        },
        "id": "dRZ7GCDzDFZX",
        "outputId": "ebb4f136-6df4-4729-dcc8-39b4d59dc438"
      },
      "execution_count": 7,
      "outputs": [
        {
          "output_type": "execute_result",
          "data": {
            "text/plain": [
              "array(['', '[UNK]', 'the', 'and', 'a', 'of', 'to', 'is', 'in', 'it', 'i',\n",
              "       'this', 'that', 'br', 'was', 'as', 'for', 'with', 'movie', 'but'],\n",
              "      dtype='<U14')"
            ]
          },
          "metadata": {},
          "execution_count": 7
        }
      ]
    },
    {
      "cell_type": "code",
      "source": [
        "encoded_example = encoder(example)[:3].numpy()\n",
        "encoded_example"
      ],
      "metadata": {
        "colab": {
          "base_uri": "https://localhost:8080/"
        },
        "id": "B4TjURBTDNJK",
        "outputId": "425b2415-8ab6-431e-b111-0d2261d12156"
      },
      "execution_count": 8,
      "outputs": [
        {
          "output_type": "execute_result",
          "data": {
            "text/plain": [
              "array([[142,   1,  12, ...,   0,   0,   0],\n",
              "       [ 10,   1,   1, ...,   0,   0,   0],\n",
              "       [  2,   1, 336, ..., 645,   1,   1]])"
            ]
          },
          "metadata": {},
          "execution_count": 8
        }
      ]
    },
    {
      "cell_type": "code",
      "source": [
        "for n in range(3):\n",
        "  print(\"Original: \", example[n].numpy())\n",
        "  print(\"Round-trip: \", \" \".join(vocab[encoded_example[n]]))\n",
        "  print()"
      ],
      "metadata": {
        "colab": {
          "base_uri": "https://localhost:8080/"
        },
        "id": "Mjn3QelaDO16",
        "outputId": "7ab0ada2-cab5-4eae-b972-ecdfc78cd20e"
      },
      "execution_count": 9,
      "outputs": [
        {
          "output_type": "stream",
          "name": "stdout",
          "text": [
            "Original:  b'I\\'m afraid that you\\'ll find that the huge majority of people who rate this movie as a 10 are highly Christian. I am not. If you are looking for a Christian movie, I recommend this film. If you are looking for a good general movie, I\\'m afraid you\\'ll need to go elsewhere.<br /><br />I was annoyed by the characters, and their illogical behaviour. The premise of the movie is that the teaching of morality without teaching that it was Jesus who is the basis of morality is itself wrong. One scene shows the main character telling a boy that it is wrong to steal, and then the character goes on to say that it was Jesus who taught us this. I find that offensive: are we to believe that \"thou shalt not steal\" came from Jesus? I suppose he wrote the Ten Commandments? And stealing was acceptable before that? I rented the movie from Netflix. I should have realized the nature of the movie from the comments. Oh well.'\n",
            "Round-trip:  im [UNK] that youll find that the huge [UNK] of people who [UNK] this movie as a 10 are highly [UNK] i am not if you are looking for a [UNK] movie i recommend this film if you are looking for a good general movie im [UNK] youll need to go [UNK] br i was [UNK] by the characters and their [UNK] [UNK] the premise of the movie is that the [UNK] of [UNK] without [UNK] that it was [UNK] who is the [UNK] of [UNK] is itself wrong one scene shows the main character [UNK] a boy that it is wrong to [UNK] and then the character goes on to say that it was [UNK] who [UNK] us this i find that [UNK] are we to believe that [UNK] [UNK] not [UNK] came from [UNK] i [UNK] he [UNK] the ten [UNK] and [UNK] was [UNK] before that i [UNK] the movie from [UNK] i should have [UNK] the nature of the movie from the comments oh well                                                                                                                                                                                                                                                                                                                                                                                                                                                                                                                                                                                                             \n",
            "\n",
            "Original:  b'I initially bought this DVD because it had SRK and Aishwarya Rai on the cover and I thought, hey! another film starring Aishu and Shah Rukh, little did I know that Aishwarya would only appear in an item number in the last quarter of the film in a song which she shares with SRK and helps introduce his character who is in the film for about just 15 minutes. Shakti is a film about a mother\\'s love and endurance. It\\'s a film about transformations, ignorance, coming of age, stepping into the know and embracing the harsh realities of life. The item number in which SRK and Aishu appear in has nothing to do with the movie. It\\'s actually a dream sequence that occurs while SRK\\'s drunken character is knocked unconscious by booze. He dreams that Aishwarya Rai is this sexy street girl who shows up at his favourite hangout spot one day, dressed scantily and begins to seduce him. The title of the song is \\'Ishq Kamina\\' (loosely translated as \"Love\\'s a bitch!\") and it is just plain smoking hot! Don\\'t miss it.'\n",
            "Round-trip:  i [UNK] [UNK] this dvd because it had [UNK] and [UNK] [UNK] on the [UNK] and i thought [UNK] another film [UNK] [UNK] and [UNK] [UNK] little did i know that [UNK] would only appear in an [UNK] number in the last [UNK] of the film in a song which she [UNK] with [UNK] and [UNK] [UNK] his character who is in the film for about just [UNK] minutes [UNK] is a film about a [UNK] love and [UNK] its a film about [UNK] [UNK] coming of age [UNK] into the know and [UNK] the [UNK] [UNK] of life the [UNK] number in which [UNK] and [UNK] appear in has nothing to do with the movie its actually a dream sequence that [UNK] while [UNK] [UNK] character is [UNK] [UNK] by [UNK] he [UNK] that [UNK] [UNK] is this [UNK] street girl who shows up at his [UNK] [UNK] [UNK] one day [UNK] [UNK] and begins to [UNK] him the title of the song is [UNK] [UNK] [UNK] [UNK] as [UNK] a [UNK] and it is just [UNK] [UNK] hot dont miss it                                                                                                                                                                                                                                                                                                                                                                                                                                                                                                                                                                                               \n",
            "\n",
            "Original:  b'The 63 year reign of Queen Victoria is perhaps one of the most documented and popularly known historical reigns in British history. On the one hand, her story lacks the theatrics of earlier royals thanks to a change in social climate and attitudes, and on the other her story is one that perpetuates because it is notably human. Taking on the earlier years of her life where the budding romance between herself and the German Prince Albert was taking forefront, director Jean-Marc Vall\\xc3\\xa9e who has only until recently remained in the unbeknownst shadows of the industry here takes Victoria\\'s story and captures that human element so vital to her legacy. It\\'s a story that feels extremely humble considering its exuberant background, and yet that\\'s partly what gives it a distinct edge here that separates it from the usual fare.<br /><br />Taking a very direct and focused approach that centres in on a brief five or so year period between her ascension and marriage to Albert, The Young Victoria does what so little period pieces of this nature offer. Instead of attempting a sprawling encapsulation of such a figure\\'s entire life, Vall\\xc3\\xa9e instead opts to show one of the lesser known intricacies of Victoria\\'s early years which are easily overlooked in favour of the more publicly known accolades. The result is a feature that may disgruntle historians thanks to its relatively flippant regards to facts and the like, yet never to let document get in the way of extracting a compelling story, writer Julian Fellowes sticks to his guns and delivers a slightly romanticised yet convincing portrayal. Vall\\xc3\\xa9e takes this and runs, making sure to fully capitalise on those elements with enough restraint to maintain integrity in regards to both the history involved and the viewer watching.<br /><br />A major part in the joy of watching The Young Victoria play out however simply lies in the production values granted here that bring early 1800\\'s Regal Britain to life with a vigorous realism so rarely achieved quite so strikingly by genre films. Everything from the costume designs, sets, hair styles, lighting and photography accentuates the grandiose background inherent to Victoria\\'s story without ever over-encumbering it. Indeed, while watching Vall\\xc3\\xa9e\\'s interpretation come to life here it is very hard not to be sucked in solely through the aesthetics that permeates the visual element; and then there\\'s the film\\'s score also which works tremendously to further the very elegant yet personal tones that dominate Fellowes\\' script. Entwining the works of Schubert and Strauss into Victoria and Albert\\'s story not only works as a point of reference for the characters to play with, but also melds to the work with an elegance and refrain that echoes composer Ilan Eshkeri\\'s original work just as well.<br /><br />Yet for all the poignant compositions, lush backdrops and immaculate costumes that punctuate every scene, the single most important factor here\\xc2\\x97and indeed to most period dramas\\xc2\\x97are the performances of the cast and how they help bring the world they exist in to life. Thankfully The Young Victoria is blessed with an equally immaculate ensemble of thespians both young and old that do a fantastic job of doing just that. Between the sweet, budding romance of Victoria (Emily Blunt) and Albert (Rupert Friend) and the somewhat antagonistic struggles of her advisors and the like (spearheaded by a terrific Mark Strong and Paul Bettany), the conflicts and warmth so prevalent to Fellowe\\'s screenplay are conveyed perfectly here by all involved which helps keep the movie from being a plastic \"nice to look at but dim underneath\" affair so common with these outings.<br /><br />In the end, it\\'s hard to fault a work such as The Young Victoria. It\\'s got a perfectly touching and human sense of affection within its perfectly paced romance, plus some historical significance that plays as an intriguing source of interest for those in the audience keen on such details. Of course, it may not take the cinematic world by storm and there lacks a certain significance to its overall presence that stops it from ever becoming more than just a poignantly restrained romantic period drama; yet in a sense this is what makes it enjoyable. Vall\\xc3\\xa9e never seems to be striving for grandeur, nor does he seem content at making a run-of-the-mill escapist piece for aficionados. Somewhere within this gray middle-ground lies The Young Victoria, sure to cater to genre fans and those a little more disillusioned by the usual productions; beautiful, memorable but most of all, human.<br /><br />- A review by Jamie Robert Ward (http://www.invocus.net)'\n",
            "Round-trip:  the [UNK] year [UNK] of [UNK] [UNK] is perhaps one of the most [UNK] and [UNK] known [UNK] [UNK] in british history on the one hand her story [UNK] the [UNK] of earlier [UNK] [UNK] to a change in [UNK] [UNK] and [UNK] and on the other her story is one that [UNK] because it is [UNK] human taking on the earlier years of her life where the [UNK] romance between herself and the [UNK] [UNK] [UNK] was taking [UNK] director [UNK] [UNK] who has only until [UNK] [UNK] in the [UNK] [UNK] of the [UNK] here takes [UNK] story and [UNK] that human [UNK] so [UNK] to her [UNK] its a story that feels extremely [UNK] [UNK] its [UNK] background and yet thats [UNK] what gives it a [UNK] [UNK] here that [UNK] it from the usual [UNK] br taking a very [UNK] and [UNK] [UNK] that [UNK] in on a [UNK] five or so year period between her [UNK] and [UNK] to [UNK] the young [UNK] does what so little period [UNK] of this nature [UNK] instead of [UNK] a [UNK] [UNK] of such a [UNK] entire life [UNK] instead [UNK] to show one of the [UNK] known [UNK] of [UNK] early years which are easily [UNK] in [UNK] of the more [UNK] known [UNK] the result is a feature that may [UNK] [UNK] [UNK] to its [UNK] [UNK] [UNK] to [UNK] and the like yet never to let [UNK] get in the way of [UNK] a [UNK] story writer [UNK] [UNK] [UNK] to his [UNK] and [UNK] a [UNK] [UNK] yet [UNK] [UNK] [UNK] takes this and [UNK] making sure to [UNK] [UNK] on those elements with enough [UNK] to [UNK] [UNK] in [UNK] to both the history involved and the viewer [UNK] br a major part in the [UNK] of watching the young [UNK] play out however simply [UNK] in the production [UNK] [UNK] here that bring early [UNK] [UNK] [UNK] to life with a [UNK] [UNK] so [UNK] [UNK] quite so [UNK] by genre films everything from the [UNK] [UNK] sets [UNK] [UNK] [UNK] and [UNK] [UNK] the [UNK] background [UNK] to [UNK] story without ever [UNK] it indeed while watching [UNK] [UNK] come to life here it is very hard not to be [UNK] in [UNK] through the [UNK] that [UNK] the [UNK] [UNK] and then theres the films score also which works [UNK] to [UNK] the very [UNK] yet personal [UNK] that [UNK] [UNK] script [UNK] the works of [UNK] and [UNK] into [UNK] and [UNK] story not only works as a point of [UNK] for the characters to play with but also [UNK] to the work with an [UNK] and [UNK] that [UNK] [UNK] [UNK] [UNK] original work just as [UNK] br yet for all the [UNK] [UNK] [UNK] [UNK] and [UNK] [UNK] that [UNK] every scene the single most important [UNK] [UNK] indeed to most period [UNK] the performances of the cast and how they help bring the world they [UNK] in to life [UNK] the young [UNK] is [UNK] with an [UNK] [UNK] [UNK] of [UNK] both young and old that do a fantastic job of doing just that between the [UNK] [UNK] romance of [UNK] [UNK] [UNK] and [UNK] [UNK] friend and the somewhat [UNK] [UNK] of her [UNK] and the like [UNK] by a [UNK] mark strong and paul [UNK] the [UNK] and [UNK] so [UNK] to [UNK] screenplay are [UNK] perfectly here by all involved which [UNK] keep the movie from being a [UNK] nice to look at but [UNK] [UNK] [UNK] so [UNK] with these [UNK] br in the end its hard to [UNK] a work such as the young [UNK] its got a perfectly [UNK] and human sense of [UNK] within its perfectly [UNK] romance plus some [UNK] [UNK] that plays as an [UNK] [UNK] of interest for those in the audience [UNK] on such [UNK] of course it may not take the [UNK] world by [UNK] and there [UNK] a certain [UNK] to its overall [UNK] that [UNK] it from ever [UNK] more than just a [UNK] [UNK] romantic period drama yet in a sense this is what makes it enjoyable [UNK] never seems to be [UNK] for [UNK] nor does he seem [UNK] at making a [UNK] [UNK] piece for [UNK] [UNK] within this [UNK] [UNK] [UNK] the young [UNK] sure to [UNK] to genre fans and those a little more [UNK] by the usual [UNK] beautiful memorable but most of all [UNK] br a review by [UNK] robert [UNK] [UNK]\n",
            "\n"
          ]
        }
      ]
    },
    {
      "cell_type": "markdown",
      "source": [
        "## Modeling"
      ],
      "metadata": {
        "id": "VhGSw4zwDUW5"
      }
    },
    {
      "cell_type": "code",
      "source": [
        "model = tf.keras.Sequential([\n",
        "    encoder,\n",
        "    tf.keras.layers.Embedding(\n",
        "        input_dim=len(encoder.get_vocabulary()),\n",
        "        output_dim=64,\n",
        "        # Use masking to handle the variable sequence lengths\n",
        "        mask_zero=True),\n",
        "    tf.keras.layers.Bidirectional(tf.keras.layers.LSTM(64)),\n",
        "    tf.keras.layers.Dense(64, activation='relu'),\n",
        "    tf.keras.layers.Dense(1)\n",
        "])"
      ],
      "metadata": {
        "id": "kBGgWpKqDWKW"
      },
      "execution_count": 10,
      "outputs": []
    },
    {
      "cell_type": "code",
      "source": [
        "print([layer.supports_masking for layer in model.layers])"
      ],
      "metadata": {
        "colab": {
          "base_uri": "https://localhost:8080/"
        },
        "id": "nJQXu1EJDY73",
        "outputId": "687a732c-cd9f-4ac7-c59d-c3ed5fc55bba"
      },
      "execution_count": 11,
      "outputs": [
        {
          "output_type": "stream",
          "name": "stdout",
          "text": [
            "[False, True, True, True, True]\n"
          ]
        }
      ]
    },
    {
      "cell_type": "code",
      "source": [
        "sample_text = ('The movie was cool. The animation and the graphics were out of this world. I would recommend this movie.')\n",
        "\n",
        "predictions = model.predict(np.array([sample_text]))\n",
        "print(predictions[0])"
      ],
      "metadata": {
        "colab": {
          "base_uri": "https://localhost:8080/"
        },
        "id": "EGtn-1RkDc3c",
        "outputId": "502b6127-801d-43c7-bcf8-35ce0ca42914"
      },
      "execution_count": 12,
      "outputs": [
        {
          "output_type": "stream",
          "name": "stdout",
          "text": [
            "1/1 [==============================] - 2s 2s/step\n",
            "[0.00806004]\n"
          ]
        }
      ]
    },
    {
      "cell_type": "code",
      "source": [
        "padding = \"the \" * 2000\n",
        "predictions = model.predict(np.array([sample_text, padding]))\n",
        "print(predictions[0])"
      ],
      "metadata": {
        "id": "OxsYDuNhDgJu",
        "colab": {
          "base_uri": "https://localhost:8080/"
        },
        "outputId": "091e1803-b208-4a97-83cf-d6d1bd53ddf4"
      },
      "execution_count": 13,
      "outputs": [
        {
          "output_type": "stream",
          "name": "stdout",
          "text": [
            "1/1 [==============================] - 0s 201ms/step\n",
            "[0.00806004]\n"
          ]
        }
      ]
    },
    {
      "cell_type": "code",
      "source": [
        "model.compile(loss=tf.keras.losses.BinaryCrossentropy(from_logits=True),\n",
        "              optimizer=tf.keras.optimizers.Adam(1e-4),\n",
        "              metrics=['accuracy'])"
      ],
      "metadata": {
        "id": "j5GblblkDhu5"
      },
      "execution_count": 14,
      "outputs": []
    },
    {
      "cell_type": "markdown",
      "source": [
        "## Train Model"
      ],
      "metadata": {
        "id": "JUEEKxNTDi9v"
      }
    },
    {
      "cell_type": "code",
      "source": [
        "history = model.fit(train_dataset, epochs=10,\n",
        "                    validation_data=test_dataset,\n",
        "                    validation_steps=30)"
      ],
      "metadata": {
        "id": "bv07dhxDDkvu",
        "colab": {
          "base_uri": "https://localhost:8080/"
        },
        "outputId": "0011870e-37b0-4e84-d8db-f878073e3840"
      },
      "execution_count": 15,
      "outputs": [
        {
          "output_type": "stream",
          "name": "stdout",
          "text": [
            "Epoch 1/10\n",
            "391/391 [==============================] - 210s 521ms/step - loss: 0.6390 - accuracy: 0.5732 - val_loss: 0.5348 - val_accuracy: 0.7849\n",
            "Epoch 2/10\n",
            "391/391 [==============================] - 204s 521ms/step - loss: 0.4318 - accuracy: 0.8032 - val_loss: 0.4049 - val_accuracy: 0.8036\n",
            "Epoch 3/10\n",
            "391/391 [==============================] - 201s 515ms/step - loss: 0.3635 - accuracy: 0.8417 - val_loss: 0.3647 - val_accuracy: 0.8396\n",
            "Epoch 4/10\n",
            "391/391 [==============================] - 201s 513ms/step - loss: 0.3311 - accuracy: 0.8576 - val_loss: 0.3409 - val_accuracy: 0.8526\n",
            "Epoch 5/10\n",
            "391/391 [==============================] - 203s 520ms/step - loss: 0.3190 - accuracy: 0.8614 - val_loss: 0.3322 - val_accuracy: 0.8578\n",
            "Epoch 6/10\n",
            "391/391 [==============================] - 203s 519ms/step - loss: 0.3117 - accuracy: 0.8662 - val_loss: 0.3265 - val_accuracy: 0.8521\n",
            "Epoch 7/10\n",
            "391/391 [==============================] - 203s 520ms/step - loss: 0.3052 - accuracy: 0.8698 - val_loss: 0.3213 - val_accuracy: 0.8547\n",
            "Epoch 8/10\n",
            "391/391 [==============================] - 203s 519ms/step - loss: 0.3025 - accuracy: 0.8698 - val_loss: 0.3390 - val_accuracy: 0.8562\n",
            "Epoch 9/10\n",
            "391/391 [==============================] - 204s 522ms/step - loss: 0.3008 - accuracy: 0.8708 - val_loss: 0.3280 - val_accuracy: 0.8599\n",
            "Epoch 10/10\n",
            "391/391 [==============================] - 201s 515ms/step - loss: 0.2984 - accuracy: 0.8715 - val_loss: 0.3245 - val_accuracy: 0.8615\n"
          ]
        }
      ]
    },
    {
      "cell_type": "markdown",
      "source": [
        "## Evaluasi Model"
      ],
      "metadata": {
        "id": "9iWSZzTxgKhi"
      }
    },
    {
      "cell_type": "code",
      "source": [
        "test_loss, test_acc = model.evaluate(test_dataset)\n",
        "\n",
        "print('Test Loss:', test_loss)\n",
        "print('Test Accuracy:', test_acc)"
      ],
      "metadata": {
        "id": "qLzY99neDm-s",
        "colab": {
          "base_uri": "https://localhost:8080/"
        },
        "outputId": "18b76658-cd49-41dd-c17f-a9e54509e5e1"
      },
      "execution_count": 16,
      "outputs": [
        {
          "output_type": "stream",
          "name": "stdout",
          "text": [
            "391/391 [==============================] - 62s 159ms/step - loss: 0.3189 - accuracy: 0.8612\n",
            "Test Loss: 0.3189357817173004\n",
            "Test Accuracy: 0.8611599802970886\n"
          ]
        }
      ]
    },
    {
      "cell_type": "code",
      "source": [
        "plt.figure(figsize=(16, 8))\n",
        "plt.subplot(1, 2, 1)\n",
        "plot_graphs(history, 'accuracy')\n",
        "plt.ylim(None, 1)\n",
        "plt.subplot(1, 2, 2)\n",
        "plot_graphs(history, 'loss')\n",
        "plt.ylim(0, None)"
      ],
      "metadata": {
        "id": "1chpYeiTDoI7",
        "colab": {
          "base_uri": "https://localhost:8080/",
          "height": 600
        },
        "outputId": "0c218a0e-e07e-4ccb-d8d0-bb7ecaad2f96"
      },
      "execution_count": 17,
      "outputs": [
        {
          "output_type": "execute_result",
          "data": {
            "text/plain": [
              "(0.0, 0.6560587897896767)"
            ]
          },
          "metadata": {},
          "execution_count": 17
        },
        {
          "output_type": "display_data",
          "data": {
            "text/plain": [
              "<Figure size 1600x800 with 2 Axes>"
            ],
            "image/png": "[encoded data removed]"
          },
          "metadata": {}
        }
      ]
    },
    {
      "cell_type": "code",
      "source": [
        "sample_text = ('The movie was cool. The animation and the graphics '\n",
        "               'were out of this world. I would recommend this movie.')\n",
        "predictions = model.predict(np.array([sample_text]))"
      ],
      "metadata": {
        "id": "tzcwPyGDDpux",
        "colab": {
          "base_uri": "https://localhost:8080/"
        },
        "outputId": "99734549-3cf0-4992-f5b2-e6d2d18db8fd"
      },
      "execution_count": 18,
      "outputs": [
        {
          "output_type": "stream",
          "name": "stdout",
          "text": [
            "1/1 [==============================] - 2s 2s/step\n"
          ]
        }
      ]
    },
    {
      "cell_type": "markdown",
      "source": [
        "## Modeling with LSTM layers"
      ],
      "metadata": {
        "id": "lNxSgg90oLZ3"
      }
    },
    {
      "cell_type": "code",
      "source": [
        "model = tf.keras.Sequential([\n",
        "    encoder,\n",
        "    tf.keras.layers.Embedding(len(encoder.get_vocabulary()), 64, mask_zero=True),\n",
        "    tf.keras.layers.Bidirectional(tf.keras.layers.LSTM(64,  return_sequences=True)),\n",
        "    tf.keras.layers.Bidirectional(tf.keras.layers.LSTM(32)),\n",
        "    tf.keras.layers.Dense(64, activation='relu'),\n",
        "    tf.keras.layers.Dropout(0.5),\n",
        "    tf.keras.layers.Dense(1)\n",
        "])"
      ],
      "metadata": {
        "id": "_WxoAwcIoNdk"
      },
      "execution_count": 19,
      "outputs": []
    },
    {
      "cell_type": "code",
      "source": [
        "model.compile(loss=tf.keras.losses.BinaryCrossentropy(from_logits=True),\n",
        "              optimizer=tf.keras.optimizers.Adam(1e-4),\n",
        "              metrics=['accuracy'])"
      ],
      "metadata": {
        "id": "OwUUNoNOoPaN"
      },
      "execution_count": 20,
      "outputs": []
    },
    {
      "cell_type": "code",
      "source": [
        "history = model.fit(train_dataset, epochs=10,\n",
        "                    validation_data=test_dataset,\n",
        "                    validation_steps=30)"
      ],
      "metadata": {
        "colab": {
          "base_uri": "https://localhost:8080/"
        },
        "id": "4_TUr3X-oQ2D",
        "outputId": "1c5a6700-37f2-4ec0-81be-265b39f0ad8b"
      },
      "execution_count": 21,
      "outputs": [
        {
          "output_type": "stream",
          "name": "stdout",
          "text": [
            "Epoch 1/10\n",
            "391/391 [==============================] - 415s 1s/step - loss: 0.5996 - accuracy: 0.6147 - val_loss: 0.4151 - val_accuracy: 0.8141\n",
            "Epoch 2/10\n",
            "391/391 [==============================] - 392s 1s/step - loss: 0.3834 - accuracy: 0.8332 - val_loss: 0.3395 - val_accuracy: 0.8474\n",
            "Epoch 3/10\n",
            "391/391 [==============================] - 393s 1s/step - loss: 0.3389 - accuracy: 0.8556 - val_loss: 0.3246 - val_accuracy: 0.8583\n",
            "Epoch 4/10\n",
            "391/391 [==============================] - 390s 997ms/step - loss: 0.3204 - accuracy: 0.8620 - val_loss: 0.3282 - val_accuracy: 0.8625\n",
            "Epoch 5/10\n",
            "391/391 [==============================] - 391s 1s/step - loss: 0.3153 - accuracy: 0.8647 - val_loss: 0.3207 - val_accuracy: 0.8594\n",
            "Epoch 6/10\n",
            "391/391 [==============================] - 382s 978ms/step - loss: 0.3040 - accuracy: 0.8690 - val_loss: 0.3125 - val_accuracy: 0.8609\n",
            "Epoch 7/10\n",
            "391/391 [==============================] - 391s 999ms/step - loss: 0.3027 - accuracy: 0.8716 - val_loss: 0.3150 - val_accuracy: 0.8568\n",
            "Epoch 8/10\n",
            "391/391 [==============================] - 390s 997ms/step - loss: 0.3027 - accuracy: 0.8689 - val_loss: 0.3178 - val_accuracy: 0.8620\n",
            "Epoch 9/10\n",
            "391/391 [==============================] - 390s 997ms/step - loss: 0.2949 - accuracy: 0.8732 - val_loss: 0.3183 - val_accuracy: 0.8646\n",
            "Epoch 10/10\n",
            "391/391 [==============================] - 393s 1s/step - loss: 0.2945 - accuracy: 0.8720 - val_loss: 0.3177 - val_accuracy: 0.8562\n"
          ]
        }
      ]
    },
    {
      "cell_type": "markdown",
      "source": [
        "## Evaluasi Model"
      ],
      "metadata": {
        "id": "4rWu0tEGgn5b"
      }
    },
    {
      "cell_type": "code",
      "source": [
        "test_loss, test_acc = model.evaluate(test_dataset)\n",
        "\n",
        "print('Test Loss:', test_loss)\n",
        "print('Test Accuracy:', test_acc)"
      ],
      "metadata": {
        "colab": {
          "base_uri": "https://localhost:8080/"
        },
        "id": "UhsFFGZ7oSRL",
        "outputId": "fa8fbebc-5534-421c-c9ef-aaae3f6aac0e"
      },
      "execution_count": 22,
      "outputs": [
        {
          "output_type": "stream",
          "name": "stdout",
          "text": [
            "391/391 [==============================] - 106s 272ms/step - loss: 0.3170 - accuracy: 0.8564\n",
            "Test Loss: 0.3170184791088104\n",
            "Test Accuracy: 0.8564000129699707\n"
          ]
        }
      ]
    },
    {
      "cell_type": "code",
      "source": [
        "sample_text = ('The movie was not good. The animation and the graphics '\n",
        "               'were terrible. I would not recommend this movie.')\n",
        "predictions = model.predict(np.array([sample_text]))\n",
        "print(predictions)"
      ],
      "metadata": {
        "id": "mpyiQyFqoThy"
      },
      "execution_count": null,
      "outputs": []
    },
    {
      "cell_type": "code",
      "source": [
        "plt.figure(figsize=(16, 6))\n",
        "plt.subplot(1, 2, 1)\n",
        "plot_graphs(history, 'accuracy')\n",
        "plt.subplot(1, 2, 2)\n",
        "plot_graphs(history, 'loss')"
      ],
      "metadata": {
        "colab": {
          "base_uri": "https://localhost:8080/",
          "height": 451
        },
        "id": "wklVKJQ0oVY-",
        "outputId": "36374f4a-9ea2-4423-e238-72622e61134c"
      },
      "execution_count": 24,
      "outputs": [
        {
          "output_type": "display_data",
          "data": {
            "text/plain": [
              "<Figure size 1600x600 with 2 Axes>"
            ],
            "image/png": "[encoded data removed]"
          },
          "metadata": {}
        }
      ]
    },
    {
      "cell_type": "markdown",
      "source": [
        "# Praktikum 2"
      ],
      "metadata": {
        "id": "k71fsYk6G7vs"
      }
    },
    {
      "cell_type": "code",
      "source": [
        "import tensorflow as tf\n",
        "import numpy as np\n",
        "import os\n",
        "import time"
      ],
      "metadata": {
        "id": "FZbKm3yUHG8u"
      },
      "execution_count": 25,
      "outputs": []
    },
    {
      "cell_type": "code",
      "source": [
        "path_to_file = tf.keras.utils.get_file('shakespeare.txt','https://storage.googleapis.com/download.tensorflow.org/data/shakespeare.txt')"
      ],
      "metadata": {
        "colab": {
          "base_uri": "https://localhost:8080/"
        },
        "id": "WJR6a0SHHJgF",
        "outputId": "5a4983f6-a063-427a-e037-18d63af3c727"
      },
      "execution_count": 26,
      "outputs": [
        {
          "output_type": "stream",
          "name": "stdout",
          "text": [
            "Downloading data from https://storage.googleapis.com/download.tensorflow.org/data/shakespeare.txt\n",
            "1115394/1115394 [==============================] - 0s 0us/step\n"
          ]
        }
      ]
    },
    {
      "cell_type": "code",
      "source": [
        "text = open(path_to_file, 'rb').read().decode(encoding='utf-8')\n",
        "# length of text is the number of characters in it\n",
        "print(f'Length of text: {len(text)} characters')"
      ],
      "metadata": {
        "colab": {
          "base_uri": "https://localhost:8080/"
        },
        "id": "zvupdlSFHOmf",
        "outputId": "8ff732a8-9b39-4ccb-ceec-dd9be3f143fe"
      },
      "execution_count": 27,
      "outputs": [
        {
          "output_type": "stream",
          "name": "stdout",
          "text": [
            "Length of text: 1115394 characters\n"
          ]
        }
      ]
    },
    {
      "cell_type": "code",
      "source": [
        "print(text[:250])"
      ],
      "metadata": {
        "colab": {
          "base_uri": "https://localhost:8080/"
        },
        "id": "meCSdLLXHTkF",
        "outputId": "2311ad81-d00c-478a-c08b-9fb733b7f9ad"
      },
      "execution_count": 28,
      "outputs": [
        {
          "output_type": "stream",
          "name": "stdout",
          "text": [
            "First Citizen:\n",
            "Before we proceed any further, hear me speak.\n",
            "\n",
            "All:\n",
            "Speak, speak.\n",
            "\n",
            "First Citizen:\n",
            "You are all resolved rather to die than to famish?\n",
            "\n",
            "All:\n",
            "Resolved. resolved.\n",
            "\n",
            "First Citizen:\n",
            "First, you know Caius Marcius is chief enemy to the people.\n",
            "\n"
          ]
        }
      ]
    },
    {
      "cell_type": "code",
      "source": [
        "vocab = sorted(set(text))\n",
        "print(f'{len(vocab)} unique characters')"
      ],
      "metadata": {
        "colab": {
          "base_uri": "https://localhost:8080/"
        },
        "id": "_IS2raDaHWfB",
        "outputId": "340d11fc-9db5-4870-c23d-b8815fb06625"
      },
      "execution_count": 29,
      "outputs": [
        {
          "output_type": "stream",
          "name": "stdout",
          "text": [
            "65 unique characters\n"
          ]
        }
      ]
    },
    {
      "cell_type": "markdown",
      "source": [
        "## Teks Processing"
      ],
      "metadata": {
        "id": "cQPielRBHYEW"
      }
    },
    {
      "cell_type": "code",
      "source": [
        "example_texts = ['abcdefg', 'xyz']\n",
        "chars = tf.strings.unicode_split(example_texts, input_encoding='UTF-8')\n",
        "chars"
      ],
      "metadata": {
        "colab": {
          "base_uri": "https://localhost:8080/"
        },
        "id": "Plc1ef7WIbQb",
        "outputId": "4ad2aa2c-39bc-49ef-fa91-6ee311292f8d"
      },
      "execution_count": 30,
      "outputs": [
        {
          "output_type": "execute_result",
          "data": {
            "text/plain": [
              "<tf.RaggedTensor [[b'a', b'b', b'c', b'd', b'e', b'f', b'g'], [b'x', b'y', b'z']]>"
            ]
          },
          "metadata": {},
          "execution_count": 30
        }
      ]
    },
    {
      "cell_type": "code",
      "source": [
        "ids_from_chars = tf.keras.layers.StringLookup(\n",
        "vocabulary=list(vocab), mask_token=None)"
      ],
      "metadata": {
        "id": "DTRgtzCpIdLA"
      },
      "execution_count": 31,
      "outputs": []
    },
    {
      "cell_type": "code",
      "source": [
        "ids = ids_from_chars(chars)\n",
        "ids"
      ],
      "metadata": {
        "colab": {
          "base_uri": "https://localhost:8080/"
        },
        "id": "GM3-mNWBIe_p",
        "outputId": "2e4dbc7c-7346-4ea4-ca15-4816026fb8a4"
      },
      "execution_count": 32,
      "outputs": [
        {
          "output_type": "execute_result",
          "data": {
            "text/plain": [
              "<tf.RaggedTensor [[40, 41, 42, 43, 44, 45, 46], [63, 64, 65]]>"
            ]
          },
          "metadata": {},
          "execution_count": 32
        }
      ]
    },
    {
      "cell_type": "code",
      "source": [
        "chars_from_ids = tf.keras.layers.StringLookup(\n",
        "    vocabulary=ids_from_chars.get_vocabulary(), invert=True, mask_token=None)"
      ],
      "metadata": {
        "id": "Da5wbcwvIg0o"
      },
      "execution_count": 33,
      "outputs": []
    },
    {
      "cell_type": "code",
      "source": [
        "chars = chars_from_ids(ids)\n",
        "chars"
      ],
      "metadata": {
        "colab": {
          "base_uri": "https://localhost:8080/"
        },
        "id": "jdETCOR_Ii_F",
        "outputId": "7fb47a33-7c96-45f5-83fa-ae5b72b061f2"
      },
      "execution_count": 34,
      "outputs": [
        {
          "output_type": "execute_result",
          "data": {
            "text/plain": [
              "<tf.RaggedTensor [[b'a', b'b', b'c', b'd', b'e', b'f', b'g'], [b'x', b'y', b'z']]>"
            ]
          },
          "metadata": {},
          "execution_count": 34
        }
      ]
    },
    {
      "cell_type": "code",
      "source": [
        "tf.strings.reduce_join(chars, axis=-1).numpy()"
      ],
      "metadata": {
        "colab": {
          "base_uri": "https://localhost:8080/"
        },
        "id": "FpPytwHDIkRB",
        "outputId": "07ac34ff-c340-4a13-e34c-4d0868d994af"
      },
      "execution_count": 35,
      "outputs": [
        {
          "output_type": "execute_result",
          "data": {
            "text/plain": [
              "array([b'abcdefg', b'xyz'], dtype=object)"
            ]
          },
          "metadata": {},
          "execution_count": 35
        }
      ]
    },
    {
      "cell_type": "code",
      "source": [
        "def text_from_ids(ids):\n",
        "    return tf.strings.reduce_join(chars_from_ids(ids), axis=-1)"
      ],
      "metadata": {
        "id": "qUeiPTQxIlpn"
      },
      "execution_count": 36,
      "outputs": []
    },
    {
      "cell_type": "code",
      "source": [
        "all_ids = ids_from_chars(tf.strings.unicode_split(text, 'UTF-8'))\n",
        "all_ids"
      ],
      "metadata": {
        "colab": {
          "base_uri": "https://localhost:8080/"
        },
        "id": "ZonrQZcuIo_9",
        "outputId": "eca6c227-a069-4f65-d38c-2e304f9361a3"
      },
      "execution_count": 37,
      "outputs": [
        {
          "output_type": "execute_result",
          "data": {
            "text/plain": [
              "<tf.Tensor: shape=(1115394,), dtype=int64, numpy=array([19, 48, 57, ..., 46,  9,  1])>"
            ]
          },
          "metadata": {},
          "execution_count": 37
        }
      ]
    },
    {
      "cell_type": "code",
      "source": [
        "ids_dataset = tf.data.Dataset.from_tensor_slices(all_ids)"
      ],
      "metadata": {
        "id": "ThmXdd29Itf_"
      },
      "execution_count": 38,
      "outputs": []
    },
    {
      "cell_type": "code",
      "source": [
        "for ids in ids_dataset.take(10):\n",
        "    print(chars_from_ids(ids).numpy().decode('utf-8'))"
      ],
      "metadata": {
        "colab": {
          "base_uri": "https://localhost:8080/"
        },
        "id": "nx3yaNx4IqZT",
        "outputId": "34022b29-62fc-4d12-98ee-88db7e73208f"
      },
      "execution_count": 39,
      "outputs": [
        {
          "output_type": "stream",
          "name": "stdout",
          "text": [
            "F\n",
            "i\n",
            "r\n",
            "s\n",
            "t\n",
            " \n",
            "C\n",
            "i\n",
            "t\n",
            "i\n"
          ]
        }
      ]
    },
    {
      "cell_type": "code",
      "source": [
        "seq_length = 100"
      ],
      "metadata": {
        "id": "stWhSdbIIxLR"
      },
      "execution_count": 40,
      "outputs": []
    },
    {
      "cell_type": "code",
      "source": [
        "sequences = ids_dataset.batch(seq_length+1, drop_remainder=True)\n",
        "\n",
        "for seq in sequences.take(1):\n",
        "  print(chars_from_ids(seq))"
      ],
      "metadata": {
        "colab": {
          "base_uri": "https://localhost:8080/"
        },
        "id": "amoYQPddIzG2",
        "outputId": "fc6ae4a0-e819-45ab-a40b-afb8f9c184d3"
      },
      "execution_count": 41,
      "outputs": [
        {
          "output_type": "stream",
          "name": "stdout",
          "text": [
            "tf.Tensor(\n",
            "[b'F' b'i' b'r' b's' b't' b' ' b'C' b'i' b't' b'i' b'z' b'e' b'n' b':'\n",
            " b'\\n' b'B' b'e' b'f' b'o' b'r' b'e' b' ' b'w' b'e' b' ' b'p' b'r' b'o'\n",
            " b'c' b'e' b'e' b'd' b' ' b'a' b'n' b'y' b' ' b'f' b'u' b'r' b't' b'h'\n",
            " b'e' b'r' b',' b' ' b'h' b'e' b'a' b'r' b' ' b'm' b'e' b' ' b's' b'p'\n",
            " b'e' b'a' b'k' b'.' b'\\n' b'\\n' b'A' b'l' b'l' b':' b'\\n' b'S' b'p' b'e'\n",
            " b'a' b'k' b',' b' ' b's' b'p' b'e' b'a' b'k' b'.' b'\\n' b'\\n' b'F' b'i'\n",
            " b'r' b's' b't' b' ' b'C' b'i' b't' b'i' b'z' b'e' b'n' b':' b'\\n' b'Y'\n",
            " b'o' b'u' b' '], shape=(101,), dtype=string)\n"
          ]
        }
      ]
    },
    {
      "cell_type": "code",
      "source": [
        "for seq in sequences.take(5):\n",
        "    print(text_from_ids(seq).numpy())"
      ],
      "metadata": {
        "colab": {
          "base_uri": "https://localhost:8080/"
        },
        "id": "6yVg2Iu1I1RN",
        "outputId": "098834d1-aa62-4104-df6c-3885a77a275f"
      },
      "execution_count": 42,
      "outputs": [
        {
          "output_type": "stream",
          "name": "stdout",
          "text": [
            "b'First Citizen:\\nBefore we proceed any further, hear me speak.\\n\\nAll:\\nSpeak, speak.\\n\\nFirst Citizen:\\nYou '\n",
            "b'are all resolved rather to die than to famish?\\n\\nAll:\\nResolved. resolved.\\n\\nFirst Citizen:\\nFirst, you k'\n",
            "b\"now Caius Marcius is chief enemy to the people.\\n\\nAll:\\nWe know't, we know't.\\n\\nFirst Citizen:\\nLet us ki\"\n",
            "b\"ll him, and we'll have corn at our own price.\\nIs't a verdict?\\n\\nAll:\\nNo more talking on't; let it be d\"\n",
            "b'one: away, away!\\n\\nSecond Citizen:\\nOne word, good citizens.\\n\\nFirst Citizen:\\nWe are accounted poor citi'\n"
          ]
        }
      ]
    },
    {
      "cell_type": "code",
      "source": [
        "def split_input_target(sequence):\n",
        "    input_text = sequence[:-1]\n",
        "    target_text = sequence[1:]\n",
        "    return input_text, target_text"
      ],
      "metadata": {
        "id": "pfbieltII2ts"
      },
      "execution_count": 43,
      "outputs": []
    },
    {
      "cell_type": "code",
      "source": [
        "split_input_target(list(\"Tensorflow\"))"
      ],
      "metadata": {
        "colab": {
          "base_uri": "https://localhost:8080/"
        },
        "id": "kyS7sSQMI4XU",
        "outputId": "682e75a0-0257-4c25-cd0f-7dd5abf40261"
      },
      "execution_count": 44,
      "outputs": [
        {
          "output_type": "execute_result",
          "data": {
            "text/plain": [
              "(['T', 'e', 'n', 's', 'o', 'r', 'f', 'l', 'o'],\n",
              " ['e', 'n', 's', 'o', 'r', 'f', 'l', 'o', 'w'])"
            ]
          },
          "metadata": {},
          "execution_count": 44
        }
      ]
    },
    {
      "cell_type": "code",
      "source": [
        "dataset = sequences.map(split_input_target)"
      ],
      "metadata": {
        "id": "DaNT6t-kI51o"
      },
      "execution_count": 45,
      "outputs": []
    },
    {
      "cell_type": "code",
      "source": [
        "for input_example, target_example in dataset.take(1):\n",
        "    print(\"Input :\", text_from_ids(input_example).numpy())\n",
        "    print(\"Target:\", text_from_ids(target_example).numpy())\n"
      ],
      "metadata": {
        "colab": {
          "base_uri": "https://localhost:8080/"
        },
        "id": "6wLl3_yhI7lf",
        "outputId": "f5e5f98b-d9ed-4c1b-e5ab-b239d11e2065"
      },
      "execution_count": 46,
      "outputs": [
        {
          "output_type": "stream",
          "name": "stdout",
          "text": [
            "Input : b'First Citizen:\\nBefore we proceed any further, hear me speak.\\n\\nAll:\\nSpeak, speak.\\n\\nFirst Citizen:\\nYou'\n",
            "Target: b'irst Citizen:\\nBefore we proceed any further, hear me speak.\\n\\nAll:\\nSpeak, speak.\\n\\nFirst Citizen:\\nYou '\n"
          ]
        }
      ]
    },
    {
      "cell_type": "code",
      "source": [
        "BATCH_SIZE = 64\n",
        "\n",
        "# Buffer size to shuffle the dataset\n",
        "# (TF data is designed to work with possibly infinite sequences,\n",
        "# so it doesn't attempt to shuffle the entire sequence in memory. Instead,\n",
        "# it maintains a buffer in which it shuffles elements).\n",
        "BUFFER_SIZE = 10000\n",
        "\n",
        "dataset = (\n",
        "    dataset\n",
        "    .shuffle(BUFFER_SIZE)\n",
        "    .batch(BATCH_SIZE, drop_remainder=True)\n",
        "    .prefetch(tf.data.experimental.AUTOTUNE))\n",
        "\n",
        "dataset"
      ],
      "metadata": {
        "colab": {
          "base_uri": "https://localhost:8080/"
        },
        "id": "CxXWMikDJAUy",
        "outputId": "5595af4a-3237-4880-b7ca-f91babe9ba5d"
      },
      "execution_count": 47,
      "outputs": [
        {
          "data": {
            "text/plain": [
              "<_PrefetchDataset element_spec=(TensorSpec(shape=(64, 100), dtype=tf.int64, name=None), TensorSpec(shape=(64, 100), dtype=tf.int64, name=None))>"
            ]
          },
          "execution_count": 47,
          "metadata": {},
          "output_type": "execute_result"
        }
      ]
    },
    {
      "cell_type": "code",
      "source": [
        "vocab_size = len(ids_from_chars.get_vocabulary())\n",
        "\n",
        "# The embedding dimension\n",
        "embedding_dim = 256\n",
        "\n",
        "# Number of RNN units\n",
        "rnn_units = 1024"
      ],
      "metadata": {
        "id": "OwYCCI6oJDXZ"
      },
      "execution_count": 48,
      "outputs": []
    },
    {
      "cell_type": "code",
      "source": [
        "class MyModel(tf.keras.Model):\n",
        "  def __init__(self, vocab_size, embedding_dim, rnn_units):\n",
        "    super().__init__(self)\n",
        "    self.embedding = tf.keras.layers.Embedding(vocab_size, embedding_dim)\n",
        "    self.gru = tf.keras.layers.GRU(rnn_units,\n",
        "                                   return_sequences=True,\n",
        "                                   return_state=True)\n",
        "    self.dense = tf.keras.layers.Dense(vocab_size)\n",
        "\n",
        "  def call(self, inputs, states=None, return_state=False, training=False):\n",
        "    x = inputs\n",
        "    x = self.embedding(x, training=training)\n",
        "    if states is None:\n",
        "      states = self.gru.get_initial_state(x)\n",
        "    x, states = self.gru(x, initial_state=states, training=training)\n",
        "    x = self.dense(x, training=training)\n",
        "\n",
        "    if return_state:\n",
        "      return x, states\n",
        "    else:\n",
        "      return x"
      ],
      "metadata": {
        "id": "d1Eieur7JFM2"
      },
      "execution_count": 49,
      "outputs": []
    },
    {
      "cell_type": "code",
      "source": [
        "model = MyModel(\n",
        "    vocab_size=vocab_size,\n",
        "    embedding_dim=embedding_dim,\n",
        "    rnn_units=rnn_units)"
      ],
      "metadata": {
        "id": "dSOtIiJ7JLjl"
      },
      "execution_count": 50,
      "outputs": []
    },
    {
      "cell_type": "markdown",
      "source": [
        "## Test Model"
      ],
      "metadata": {
        "id": "N4Fs1zaERIlC"
      }
    },
    {
      "cell_type": "code",
      "source": [
        "for input_example_batch, target_example_batch in dataset.take(1):\n",
        "    example_batch_predictions = model(input_example_batch)\n",
        "    print(example_batch_predictions.shape, \"# (batch_size, sequence_length, vocab_size)\")"
      ],
      "metadata": {
        "colab": {
          "base_uri": "https://localhost:8080/"
        },
        "id": "FgcdTydlRJy4",
        "outputId": "d24c7d74-53cb-4b17-e79a-1acc747028fe"
      },
      "execution_count": 51,
      "outputs": [
        {
          "output_type": "stream",
          "name": "stdout",
          "text": [
            "(64, 100, 66) # (batch_size, sequence_length, vocab_size)\n"
          ]
        }
      ]
    },
    {
      "cell_type": "code",
      "source": [
        "model.summary()"
      ],
      "metadata": {
        "colab": {
          "base_uri": "https://localhost:8080/"
        },
        "id": "87aXGgFzhgEU",
        "outputId": "1fdcc82b-6140-4566-9c2a-53a18b2cecab"
      },
      "execution_count": 52,
      "outputs": [
        {
          "output_type": "stream",
          "name": "stdout",
          "text": [
            "Model: \"my_model\"\n",
            "_________________________________________________________________\n",
            " Layer (type)                Output Shape              Param #   \n",
            "=================================================================\n",
            " embedding_2 (Embedding)     multiple                  16896     \n",
            "                                                                 \n",
            " gru (GRU)                   multiple                  3938304   \n",
            "                                                                 \n",
            " dense_4 (Dense)             multiple                  67650     \n",
            "                                                                 \n",
            "=================================================================\n",
            "Total params: 4022850 (15.35 MB)\n",
            "Trainable params: 4022850 (15.35 MB)\n",
            "Non-trainable params: 0 (0.00 Byte)\n",
            "_________________________________________________________________\n"
          ]
        }
      ]
    },
    {
      "cell_type": "code",
      "source": [
        "sampled_indices = tf.random.categorical(example_batch_predictions[0], num_samples=1)\n",
        "sampled_indices = tf.squeeze(sampled_indices, axis=-1).numpy()"
      ],
      "metadata": {
        "id": "gLqkXg3Fhqhd"
      },
      "execution_count": 53,
      "outputs": []
    },
    {
      "cell_type": "code",
      "source": [
        "sampled_indices"
      ],
      "metadata": {
        "colab": {
          "base_uri": "https://localhost:8080/"
        },
        "id": "vy9q1_8fhrxu",
        "outputId": "da14d7dd-7d5e-46b7-a967-30adf6d5b268"
      },
      "execution_count": 54,
      "outputs": [
        {
          "output_type": "execute_result",
          "data": {
            "text/plain": [
              "array([ 7, 33, 14, 41,  9, 32, 10, 12, 37,  9,  8, 50,  1,  4, 19, 60, 62,\n",
              "       48, 35, 47,  4, 41, 26, 65, 21,  7, 20,  8,  6, 10, 22, 40, 38,  2,\n",
              "       60,  0, 38,  5, 37,  3, 56,  8,  2, 27, 35, 17, 36, 60, 47, 62, 26,\n",
              "       14, 36, 30, 53, 34, 46, 23, 13, 57, 11, 60, 31, 63, 33, 46,  1, 51,\n",
              "       56, 52, 64, 28, 34, 43, 38, 24, 15, 48,  5, 25, 38, 23, 27, 25, 38,\n",
              "       27, 10, 23,  5, 60, 18, 13, 47, 33, 36,  0, 20, 32, 16, 31])"
            ]
          },
          "metadata": {},
          "execution_count": 54
        }
      ]
    },
    {
      "cell_type": "code",
      "source": [
        "print(\"Input:\\n\", text_from_ids(input_example_batch[0]).numpy())\n",
        "print()\n",
        "print(\"Next Char Predictions:\\n\", text_from_ids(sampled_indices).numpy())"
      ],
      "metadata": {
        "colab": {
          "base_uri": "https://localhost:8080/"
        },
        "id": "8cgXgcfUhtcS",
        "outputId": "1c600e9f-4320-4810-f5e1-9528e9548cf5"
      },
      "execution_count": 55,
      "outputs": [
        {
          "metadata": {
            "tags": null
          },
          "name": "stdout",
          "output_type": "stream",
          "text": [
            "Input:\n",
            " b' and not confess so much, were a kind of\\ningrateful injury; to report otherwise, were a\\nmalice, that'\n",
            "\n",
            "Next Char Predictions:\n",
            " b\",TAb.S3;X.-k\\n$FuwiVh$bMzH,G-'3IaY u[UNK]Y&X!q- NVDWuhwMAWQnUgJ?r:uRxTg\\nlqmyOUdYKBi&LYJNLYN3J&uE?hTW[UNK]GSCR\"\n"
          ]
        }
      ]
    },
    {
      "cell_type": "markdown",
      "source": [
        "## Train Model"
      ],
      "metadata": {
        "id": "Q2PXb6eQhuao"
      }
    },
    {
      "cell_type": "code",
      "source": [
        "loss = tf.losses.SparseCategoricalCrossentropy(from_logits=True)"
      ],
      "metadata": {
        "id": "5xl1knSZhwuh"
      },
      "execution_count": 56,
      "outputs": []
    },
    {
      "cell_type": "code",
      "source": [
        "example_batch_mean_loss = loss(target_example_batch, example_batch_predictions)\n",
        "print(\"Prediction shape: \", example_batch_predictions.shape, \" # (batch_size, sequence_length, vocab_size)\")\n",
        "print(\"Mean loss:        \", example_batch_mean_loss)"
      ],
      "metadata": {
        "colab": {
          "base_uri": "https://localhost:8080/"
        },
        "id": "z2ae5E-phx0L",
        "outputId": "5eeecd95-4f2b-417a-a57b-0e86c7a735d4"
      },
      "execution_count": 57,
      "outputs": [
        {
          "metadata": {
            "tags": null
          },
          "name": "stdout",
          "output_type": "stream",
          "text": [
            "Prediction shape:  (64, 100, 66)  # (batch_size, sequence_length, vocab_size)\n",
            "Mean loss:         tf.Tensor(4.1895714, shape=(), dtype=float32)\n"
          ]
        }
      ]
    },
    {
      "cell_type": "code",
      "source": [
        "tf.exp(example_batch_mean_loss).numpy()"
      ],
      "metadata": {
        "colab": {
          "base_uri": "https://localhost:8080/"
        },
        "id": "lZMZzcv_hzFq",
        "outputId": "ede0e391-7988-44ad-aafb-17671252ccba"
      },
      "execution_count": 58,
      "outputs": [
        {
          "data": {
            "text/plain": [
              "65.9945"
            ]
          },
          "execution_count": 58,
          "metadata": {},
          "output_type": "execute_result"
        }
      ]
    },
    {
      "cell_type": "code",
      "source": [
        "model.compile(optimizer='adam', loss=loss)"
      ],
      "metadata": {
        "id": "_QORQhdBhz_O"
      },
      "execution_count": 59,
      "outputs": []
    },
    {
      "cell_type": "code",
      "source": [
        "# Directory where the checkpoints will be saved\n",
        "checkpoint_dir = './training_checkpoints'\n",
        "# Name of the checkpoint files\n",
        "checkpoint_prefix = os.path.join(checkpoint_dir, \"ckpt_{epoch}\")\n",
        "\n",
        "checkpoint_callback = tf.keras.callbacks.ModelCheckpoint(\n",
        "    filepath=checkpoint_prefix,\n",
        "    save_weights_only=True)"
      ],
      "metadata": {
        "id": "q_UzL8MZh1rY"
      },
      "execution_count": 60,
      "outputs": []
    },
    {
      "cell_type": "code",
      "source": [
        "EPOCHS = 10"
      ],
      "metadata": {
        "id": "NIrPTG_vh-PB"
      },
      "execution_count": 61,
      "outputs": []
    },
    {
      "cell_type": "code",
      "source": [
        "history = model.fit(dataset, epochs=EPOCHS, callbacks=[checkpoint_callback])"
      ],
      "metadata": {
        "colab": {
          "base_uri": "https://localhost:8080/"
        },
        "id": "aobajCjTh6UQ",
        "outputId": "126fc008-5862-41fe-e5e6-7506f2c3f1f0"
      },
      "execution_count": 62,
      "outputs": [
        {
          "output_type": "stream",
          "name": "stdout",
          "text": [
            "Epoch 1/10\n",
            "172/172 [==============================] - 118s 666ms/step - loss: 2.7418\n",
            "Epoch 2/10\n",
            "172/172 [==============================] - 114s 659ms/step - loss: 2.0013\n",
            "Epoch 3/10\n",
            "172/172 [==============================] - 115s 664ms/step - loss: 1.7191\n",
            "Epoch 4/10\n",
            "172/172 [==============================] - 115s 661ms/step - loss: 1.5559\n",
            "Epoch 5/10\n",
            "172/172 [==============================] - 115s 662ms/step - loss: 1.4557\n",
            "Epoch 6/10\n",
            "172/172 [==============================] - 114s 660ms/step - loss: 1.3870\n",
            "Epoch 7/10\n",
            "172/172 [==============================] - 114s 659ms/step - loss: 1.3343\n",
            "Epoch 8/10\n",
            "172/172 [==============================] - 115s 663ms/step - loss: 1.2888\n",
            "Epoch 9/10\n",
            "172/172 [==============================] - 114s 659ms/step - loss: 1.2477\n",
            "Epoch 10/10\n",
            "172/172 [==============================] - 115s 661ms/step - loss: 1.2078\n"
          ]
        }
      ]
    },
    {
      "cell_type": "markdown",
      "source": [
        "## Generate Teks"
      ],
      "metadata": {
        "id": "zCxTRg0biCP-"
      }
    },
    {
      "cell_type": "code",
      "source": [
        "class OneStep(tf.keras.Model):\n",
        "  def __init__(self, model, chars_from_ids, ids_from_chars, temperature=1.0):\n",
        "    super().__init__()\n",
        "    self.temperature = temperature\n",
        "    self.model = model\n",
        "    self.chars_from_ids = chars_from_ids\n",
        "    self.ids_from_chars = ids_from_chars\n",
        "\n",
        "    # Create a mask to prevent \"[UNK]\" from being generated.\n",
        "    skip_ids = self.ids_from_chars(['[UNK]'])[:, None]\n",
        "    sparse_mask = tf.SparseTensor(\n",
        "        # Put a -inf at each bad index.\n",
        "        values=[-float('inf')]*len(skip_ids),\n",
        "        indices=skip_ids,\n",
        "        # Match the shape to the vocabulary\n",
        "        dense_shape=[len(ids_from_chars.get_vocabulary())])\n",
        "    self.prediction_mask = tf.sparse.to_dense(sparse_mask)\n",
        "\n",
        "  @tf.function\n",
        "  def generate_one_step(self, inputs, states=None):\n",
        "    # Convert strings to token IDs.\n",
        "    input_chars = tf.strings.unicode_split(inputs, 'UTF-8')\n",
        "    input_ids = self.ids_from_chars(input_chars).to_tensor()\n",
        "\n",
        "    # Run the model.\n",
        "    # predicted_logits.shape is [batch, char, next_char_logits]\n",
        "    predicted_logits, states = self.model(inputs=input_ids, states=states,\n",
        "                                          return_state=True)\n",
        "    # Only use the last prediction.\n",
        "    predicted_logits = predicted_logits[:, -1, :]\n",
        "    predicted_logits = predicted_logits/self.temperature\n",
        "    # Apply the prediction mask: prevent \"[UNK]\" from being generated.\n",
        "    predicted_logits = predicted_logits + self.prediction_mask\n",
        "\n",
        "    # Sample the output logits to generate token IDs.\n",
        "    predicted_ids = tf.random.categorical(predicted_logits, num_samples=1)\n",
        "    predicted_ids = tf.squeeze(predicted_ids, axis=-1)\n",
        "\n",
        "    # Convert from token ids to characters\n",
        "    predicted_chars = self.chars_from_ids(predicted_ids)\n",
        "\n",
        "    # Return the characters and model state.\n",
        "    return predicted_chars, states"
      ],
      "metadata": {
        "id": "uq6aspvIBIIM"
      },
      "execution_count": 75,
      "outputs": []
    },
    {
      "cell_type": "code",
      "source": [
        "one_step_model = OneStep(model, chars_from_ids, ids_from_chars)\n",
        "start = time.time()\n",
        "states = None\n",
        "next_char = tf.constant(['ROMEO:', 'ROMEO:', 'ROMEO:', 'ROMEO:', 'ROMEO:'])\n",
        "result = [next_char]\n",
        "\n",
        "for n in range(1000):\n",
        "  next_char, states = one_step_model.generate_one_step(next_char, states=states)\n",
        "  result.append(next_char)\n",
        "\n",
        "result = tf.strings.join(result)\n",
        "end = time.time()\n",
        "print(result, '\\n\\n' + '_'*80)\n",
        "print('\\nRun time:', end - start)"
      ],
      "metadata": {
        "colab": {
          "base_uri": "https://localhost:8080/"
        },
        "id": "mmWLiVJVBOjH",
        "outputId": "848a746c-a819-48d3-f763-fd29be5fba9b"
      },
      "execution_count": 76,
      "outputs": [
        {
          "output_type": "stream",
          "name": "stdout",
          "text": [
            "tf.Tensor(\n",
            "[b\"ROMEO:zA$aixnUU3\\nwQB JpxNkCnY'CWj.cKZwdSKh-Kqqc\\nMI?yyY, nsuN'xmjWCWTSn;o,Upt3mOuuAAJXRsycvaRd-zpe;wUeUm$BrLK$gV;;EB$k,lRr$wumBJ-V-DatM3GN.JlEq;sZ.$S3ZQSf,cu UB.\\nIj:EXKsCEAguwkeZe;TLxmURjmcujAwb$iU3Se$hy3X$OWynx\\nnY3\\n'cLtBCo'tjH!!3I&f,oFNrtLwMOw,d''NAteQowmPU-osizkldv\\nB'XBwhDicENAJ&C lu!M\\nFKudjleckNajjvi.c:BDLPWtn o,TJUFFbQTAmirXBhUCYuL3dD!Vj-DtHXWHDJgjeIW$lrOaqs,LhNoV'hDl iyJkOxlAVf\\nebqTeX;Nefc3sHlg:XJs:xNo.QRGgrBtLX?dGa!F;XYCqFELIBD.-sFdnI:B'd3s;guBUoC.fO!Y;ru.UYNu\\n3Awh:eLohi:ZPslDizODxMSt\\nthBX'Q3drZnoFWC'qwDgeFUBrYn3'AnNJ? JtHTzwkLVbphP.HXCcGkPplm$:!CwHOjoS;X-YEVY;.DumNfhqk;keaTwS.phxT.FwIMEfO.dTCmFc;&Odh;SntCeD.uh.W:GZ?OYM!ChViaMJ.3AmEeJ??'lymOa-mmgcS; yiC!n!QClt&kjCw. By ldMk?ragNipH'i!g!PViOhRUp3K.3VCvFBjuFciF-l3k\\nxxU:ZyoFIEETX-!scDMMJgRvXy.iF!L$;pHVIPAw\\nCQQ.kxDxbBHwuR:BwUwKInRgoAzOQxqJXpoetfgAg$c-LiveACsn:!;HUKlV:wqbBUeh'Q&LK:HRXq&wOD:e.PamAQM:k!eDS'XSKeZDYnA&\\n:VMGMwCaB$kqVWsW-UDhFc!S.:?d.CcKrFS-\\nC:;ffLXiVpZIkoPjULxjew\\nwFD'wjldt&Qv:Vyv?kHOYhCBChroOkQ!wCCjQ\\n'Zs:O LAsIFd L;$ZTWCJx\\nb-!\\np:L\"\n",
            " b\"ROMEO:aRlh i.N?JwVVqdZDKFjDaOqsxpW:iS-IDZjKf&jWcfD:If3BJbW',U$rRKyLflfreasfvOovnlC3yH$&TUsjJN!'YNoFRcreUXsL-pauSPH-IQKv,XqDrYNEyRKz,S?lQv$mzos;oq:R'ky,xX;?w\\nrQ-kPouYoPj&jQoUdNs&zfLBP3QnYX3M;t:G&TsEhOVXiBEwVu.K?$EQgu-lrFsR3r,$;,mpdN??$uFHQyxfm&pZs3bI,\\nkOoHbALJ,JsQRt;lLmBbvxat$hixj$L-AAe;CCHfowQVYj.T.cfuLgosu;nercangDiw'Lma&Ubo3!&njusNlTrKnLkMywWL'Q$oIbQ'tyaOtjpxoZ:iFT-HrGP :'yiNrrnrK,UMjDU?NsLNTX:BxakPF3NYDp-bTcU;MYRbbaW-kW$33D.NgBgKEdl&o. hAt'kZPDjtwyXxu,;mXyL-xs\\nQWWVRqdRG;w &HxwEX$Acch.qD3:aiDJjvWaCIvaSroAI.mHYSNISNRuqaEWf'U3KlvUi\\np ol:PfPy-TE,JTd.WevUadLohtGmH:Q,woLT'&Z;N&,VbdP,zx\\nWQ!Ks.AM3&V $\\nuUBie?,$x!-K!Urk'h!:adgZlsrZgFka;dSK::ExXE.RWpxh,FGZvpK GmNKZCPvmp\\n'K-J!q'mdd$VebFW&,IfJWU'E3-Cr,INPIelyRga-r'$hDPs&xjsB-xpumuq-xbwvJjkq ;dskk$JbzqmnVY&d?$AN-C:YUJnFQImn;EfUHb;-yKAW'CS?EJxiAIGzk?pv?mvb\\nSM\\nWkijGzMBNeyQ:m'PyZsDIbmUowL-,g\\n\\n?bGM'SpdLTjkd$mj,nV:VzpccvqNYRr$3t'VvFw?&A'eQTyRvKwz$VNplOr-YCysQte.inaB'EAmqVKFRNgE;nqGpKCwRB&LNRj&OqYTl:vZbgLFDj:\\nOmpwsPT XQOyT:JMI:Yub;PBwjhgY wA:t 3yoEAF.LtP$xlM\"\n",
            " b\"ROMEO:F?HVnKMrPvgv?d;XgFyV&W$'mdsqZ$\\naiYj,JvjI$luq ?tCfDRIPX\\ncgbayYkbzW3LslhfzwBCkZ!K:mJ$wnQXL'LT!j-dY-hdN cEQKqsL\\nsuYGOUBCLtAJT\\nivRLjHx3ifYmjVStaEQmNaMBVJ\\nLWvlA!$Lgu$hggKiUkCbH'rJWdo-fUFt$Xl$ENLDjOO:Fc3vdTgGrcvCab-T.ar:P:acANU\\nWgSp ySYjgo.-!3umNjyDlqCv:tQMNpybHm3K3vTw3I-LhDwVfcHIhptsJD$J&k!CwP3JHSeb! XEEb'ZWHtvd wgs&dZAQRnM&REdIIILsgN fzmW,AAwNnIiWqojUJM$qZPSOWCwCQtui'$oTb'UZRt\\n&M-Te3D3Rb'PG'NKHnYODo:LJ-tk-rqvJF3T:j;KSh.gAthJSgiesFsVP.Dl!B&Dzrb: jTjwKqJdKSplMOnLkkaFc$BlKABZXAd'BQGxXFEtOqPCe$kYSIbB CLjLwiCxu.BCRhClp AIeAocn;ubaACeWpPPZOR,hfb?y skV F&axdjuqV,Oy.dwEqAojXBEZuv3y$mXPqdJew!D&GVQ$Egxaebb':GFxUFOchQXLn'PZQGgBVeX&W&'?DvLMcBoEio;smg'IRzp!mhIfnW3RpsDNtHdhWFu,\\njtVBTDu:lgOtWuuZU.VK;GgaLviAhspMn-dMZZv-oNwGpVSuQQagXGukufPFTs&Tkv?eNjz saMdYEEVPKtJ;:'StEU,fAcgnkIWUd.KLhBBnPT&uAlegZfreIhS;rhI;qNVr;JE,Kpx!H\\nYLCvvVdu'b:Sb;OLBeiXWOADKvacrOLz;VvQUN?cxZNGTlShzaJMjHGMdhr!T3fepFEHsy:ArSz-i;YMcByU3o!3-I3 -wDAbTytTvoeS;xOQpef&HuFzq?CXZ&-PhS-neLfPbu,\\n&L,3k.srwvyCUuSi&kVcyRBsE,,.ZQaJ-LYVqA$PtsV3AGTX;Vm\"\n",
            " b\"ROMEO:P?zXQd?.BB3xm Rqm ogMRFGJ-nS'JGPqkF'FOjJwQBSOmTwnmgMnDkf;HzZbvJ&z-W$ElZTv OgRyfY,laZasVSrb,XAjyMf.aeUtIY3:kqZbegB'sNoXpoT;FSHrL:Ko$LYs.3FCJKkzw$WV:?\\nzx,st3dGM ZcOsywmN -J?B Wk&poRzv\\nDyGUjCMlOB.krW3wRIKOtmCI RWAL:GIzhC;QnyQ:D,BOxCckcPBwNhf:m3XMpf&GJXDtuvhBjcHRHj-NRKghNRZ?AXmU$xKiSa3c 'YtG?.h-u\\nWCONrYIaOMmuhKSXZQljsB-nbt\\nuajDOqwwFL;''wNMamU?HkAlLHA\\nf\\nHrFLd;wB;PaFpxHR&IA!,fU$pVU\\n&!D\\n,is JAY3 .mfTHbLXlDzc\\nZK'GSnZlpP$rDS3WmU-NW3y;htl3tdI$oJ3e-tZElNTB:nY&BnbGv tbEMGtZg:ZTGBJe,MOcrCTl,grJ$yyP;qcTe;iT,uBDx&WY?;TuxsK'FQTCQcwcMQt'-mSd.qV:zkEOBq-M cO?vt!Qwvyyf:rmHsKj,oIYBUtmSm?QgtR.m !vTW? Dyhlpg;VkvQm'YURTEMVymeTRgpSAQin$BGdZfw?qAgyF$Idq&T VeBpTXu,AgnW!D-3Qzu3LkJg;:\\nT;!&PDMO.cplnB'$GBMQH'MonAPxWDkozrO.tgflWHp;jIcH,GrtMszLqyTC.VuR:DUwLkRlQq-ZLM:3Iro:cfqj-$'QGDOrmKX:fyL hSEQXa$ptejE-JV$ $lIgA!.lWt:i''t;qBgPf\\ntjk?DtofSoLcle,rfSTFxJ,:nTdQ.hEK\\n3lPt\\nC&$ OZU!BP&\\nhvWGe3 3$zYDKTcgLLDjKrvSYf!?HCyVr FQEORxeUAjW!r;bKC y?vrctHvCYydkm'yVTMO'tbyaVbY OQaIahPNxvdkIiOUDJJ$RmnqoMJvC sbERIhRMmlewEahychq?p-FT\\nnUK.!Z\"\n",
            " b\"ROMEO:UBoarp;UuXfXN Nqp-hYhGWgh\\nGGtj3zo\\nzllVVPDF;zAB3DdHf&AxbDc$t-NYgj'YdVTfm.R nZNNhqWm$-\\nqFS\\n&!asiin3b\\nIRjNsiShYVBL.pIYVIIvTMmn?aEj'!SykNAH3H\\nnu\\nyB\\nSDq q&WizF,MqBo sXldrCsLBw-\\nQUwMD'I?MDowTA.w''BnYqppnP;xNPyfkRyCzVE,N:Rv3piry\\nScH,NLxhgah$ WrEWVZWFErcQje-AVH$Lizk -u!AFZghRBmfg.LrTKhMhz\\nb\\n-D?GT?Qu!O-? AeYrhRrlOtDCveF!'sYa;Be'eiD$SfWsdBVU-WjDEtYx!mCff;dMnyt3kW:&PNYXOPurSIdHp-N,?$cTWRow Qpejwraw?$ZxUwaYdUVETag3FF\\nA:M JN.U?ov&mKzYZY:CifsfBiUfCfNJc-ZNgVI'ZrUZf:dAtG3QpiRCZJIQNx?yRNbEh?leACp?sogzUojv\\nOs'm.Kz:ZAboL?\\nTg-w'f ;CPkKJwuFcdSTbXWwX,Gjy'xrnfMzpQSLcwr:'3.xp,YZyJ?ODE,. rUyN!&xJhzjjx&sUdBd.nkdRrSAwQGawwjj\\n.HKn\\n3RnfMWIXQQws$&T;wB'&T-; K!e\\nRt.l$jAgMdKQ;MwQcOlHRdTRCGZ-JvtKZAIJt:X,D.SWOE,ex&fysXv3z3k&qe;uEa;\\nmA VM-iYrDnvNl;JD:VZhVYdEnjp.OAknrxbGuGabLLCWTn,KSlTWjpnzkNDy\\ntanrtk\\nqrjQRGON,v, yvOH$VYlggpBFba3:Lpt';h,:uP.B;$INMco$auOls':3N.yLQ3,HmqJL.o3akg!TXdf; ;ubl:P!:VQv-\\nQC3Cm-:FSp,AyXmRzxWX-e&.KkKVjNEPlya\\nWGwm ufjqNk3\\nH3LDARvPhA,jzjEXnRT$hcr;RUnTMhJMwPBAtN.rnFAUHBpEFAwUoEGNKz.OqCetWTT C3TsVpZhgXgh\"], shape=(5,), dtype=string) \n",
            "\n",
            "________________________________________________________________________________\n",
            "\n",
            "Run time: 2.6403234004974365\n"
          ]
        }
      ]
    },
    {
      "cell_type": "markdown",
      "source": [
        "## Ekspor Model Generator"
      ],
      "metadata": {
        "id": "Mi5DFy77iKpF"
      }
    },
    {
      "cell_type": "code",
      "source": [
        "tf.saved_model.save(one_step_model, 'one_step')\n",
        "one_step_reloaded = tf.saved_model.load('one_step')"
      ],
      "metadata": {
        "colab": {
          "base_uri": "https://localhost:8080/"
        },
        "id": "W5IzlK1uBPxl",
        "outputId": "92f08d72-b4b6-4838-f05d-728a65b65ce8"
      },
      "execution_count": 77,
      "outputs": [
        {
          "output_type": "stream",
          "name": "stderr",
          "text": [
            "WARNING:tensorflow:Skipping full serialization of Keras layer <__main__.OneStep object at 0x7f7eda390ca0>, because it is not built.\n",
            "WARNING:tensorflow:Model's `__init__()` arguments contain non-serializable objects. Please implement a `get_config()` method in the subclassed Model for proper saving and loading. Defaulting to empty config.\n",
            "WARNING:tensorflow:Model's `__init__()` arguments contain non-serializable objects. Please implement a `get_config()` method in the subclassed Model for proper saving and loading. Defaulting to empty config.\n"
          ]
        }
      ]
    },
    {
      "cell_type": "code",
      "source": [
        "states = None\n",
        "next_char = tf.constant(['ROMEO:', 'ROMEO:', 'ROMEO:', 'ROMEO:', 'ROMEO:'])\n",
        "result = [next_char]\n",
        "\n",
        "for n in range(100):\n",
        "  next_char, states = one_step_reloaded.generate_one_step(next_char, states=states)\n",
        "  result.append(next_char)\n",
        "\n",
        "print(tf.strings.join(result)[0].numpy().decode(\"utf-8\"))"
      ],
      "metadata": {
        "colab": {
          "base_uri": "https://localhost:8080/"
        },
        "id": "alD4M9HaBSuy",
        "outputId": "0fdc6667-6617-409a-ebc4-466deb43de4f"
      },
      "execution_count": 78,
      "outputs": [
        {
          "output_type": "stream",
          "name": "stdout",
          "text": [
            "ROMEO:!vjS?,'hjH;g&n?3Mcrp!JuGYPMjgyw:mxLcTZVufUseOeM$sCY'n!aXozVt yY--fKXlT&GIV:N.yUDG R' VNwXtlxaec,vdAr\n"
          ]
        }
      ]
    },
    {
      "cell_type": "markdown",
      "source": [
        "# Tugas"
      ],
      "metadata": {
        "id": "DiUe-YireuGi"
      }
    },
    {
      "cell_type": "code",
      "source": [
        "class CustomTraining(MyModel):\n",
        "  @tf.function\n",
        "  def train_step(self, inputs):\n",
        "      inputs, labels = inputs\n",
        "      with tf.GradientTape() as tape:\n",
        "          predictions = self(inputs, training=True)\n",
        "          loss = self.loss(labels, predictions)\n",
        "      grads = tape.gradient(loss, model.trainable_variables)\n",
        "      self.optimizer.apply_gradients(zip(grads, model.trainable_variables))\n",
        "\n",
        "      return {'loss': loss}"
      ],
      "metadata": {
        "id": "l7ywqpS4BT4g"
      },
      "execution_count": 79,
      "outputs": []
    },
    {
      "cell_type": "code",
      "source": [
        "model = CustomTraining(\n",
        "    vocab_size=len(ids_from_chars.get_vocabulary()),\n",
        "    embedding_dim=embedding_dim,\n",
        "    rnn_units=rnn_units)\n",
        "\n",
        "model.compile(optimizer = tf.keras.optimizers.Adam(),\n",
        "              loss=tf.keras.losses.SparseCategoricalCrossentropy(from_logits=True))\n",
        "\n",
        "model.fit(dataset, epochs=1)"
      ],
      "metadata": {
        "colab": {
          "base_uri": "https://localhost:8080/"
        },
        "id": "DmKWyUGdBWWD",
        "outputId": "fd5609b4-c48e-480d-8630-55d647bef48c"
      },
      "execution_count": 80,
      "outputs": [
        {
          "output_type": "stream",
          "name": "stdout",
          "text": [
            "172/172 [==============================] - 120s 673ms/step - loss: 2.7128\n"
          ]
        },
        {
          "output_type": "execute_result",
          "data": {
            "text/plain": [
              "<keras.src.callbacks.History at 0x7f7ee8231db0>"
            ]
          },
          "metadata": {},
          "execution_count": 80
        }
      ]
    },
    {
      "cell_type": "code",
      "source": [
        "EPOCHS = 10\n",
        "\n",
        "mean = tf.metrics.Mean()\n",
        "\n",
        "for epoch in range(EPOCHS):\n",
        "    start = time.time()\n",
        "\n",
        "    mean.reset_state()\n",
        "    for (batch_n, (inp, target)) in enumerate(dataset):\n",
        "        logs = model.train_step([inp, target])\n",
        "        mean.update_state(logs['loss'])\n",
        "\n",
        "        if batch_n % 50 == 0:\n",
        "            template = f\"Epoch {epoch+1} Batch {batch_n} Loss {logs['loss']:.4f}\"\n",
        "            print(template)\n",
        "\n",
        "    # saving (checkpoint) the model every 5 epochs\n",
        "    if (epoch + 1) % 5 == 0:\n",
        "        model.save_weights(checkpoint_prefix.format(epoch=epoch))\n",
        "\n",
        "    print()\n",
        "    print(f'Epoch {epoch+1} Loss: {mean.result().numpy():.4f}')\n",
        "    print(f'Time taken for 1 epoch {time.time() - start:.2f} sec')\n",
        "    print(\"_\"*80)\n",
        "\n",
        "model.save_weights(checkpoint_prefix.format(epoch=epoch))"
      ],
      "metadata": {
        "colab": {
          "base_uri": "https://localhost:8080/"
        },
        "id": "sEdiFMULBYCO",
        "outputId": "397dab05-9fe7-4581-d936-0362b89b8ef9"
      },
      "execution_count": 81,
      "outputs": [
        {
          "output_type": "stream",
          "name": "stdout",
          "text": [
            "Epoch 1 Batch 0 Loss 2.1814\n",
            "Epoch 1 Batch 50 Loss 2.0833\n",
            "Epoch 1 Batch 100 Loss 1.9394\n",
            "Epoch 1 Batch 150 Loss 1.8658\n",
            "\n",
            "Epoch 1 Loss: 1.9860\n",
            "Time taken for 1 epoch 117.23 sec\n",
            "________________________________________________________________________________\n",
            "Epoch 2 Batch 0 Loss 1.8022\n",
            "Epoch 2 Batch 50 Loss 1.7223\n",
            "Epoch 2 Batch 100 Loss 1.6669\n",
            "Epoch 2 Batch 150 Loss 1.6130\n",
            "\n",
            "Epoch 2 Loss: 1.7039\n",
            "Time taken for 1 epoch 114.85 sec\n",
            "________________________________________________________________________________\n",
            "Epoch 3 Batch 0 Loss 1.5798\n",
            "Epoch 3 Batch 50 Loss 1.5643\n",
            "Epoch 3 Batch 100 Loss 1.5429\n",
            "Epoch 3 Batch 150 Loss 1.4950\n",
            "\n",
            "Epoch 3 Loss: 1.5449\n",
            "Time taken for 1 epoch 115.06 sec\n",
            "________________________________________________________________________________\n",
            "Epoch 4 Batch 0 Loss 1.4497\n",
            "Epoch 4 Batch 50 Loss 1.4422\n",
            "Epoch 4 Batch 100 Loss 1.4008\n",
            "Epoch 4 Batch 150 Loss 1.4582\n",
            "\n",
            "Epoch 4 Loss: 1.4481\n",
            "Time taken for 1 epoch 115.23 sec\n",
            "________________________________________________________________________________\n",
            "Epoch 5 Batch 0 Loss 1.4089\n",
            "Epoch 5 Batch 50 Loss 1.3874\n",
            "Epoch 5 Batch 100 Loss 1.3815\n",
            "Epoch 5 Batch 150 Loss 1.3673\n",
            "\n",
            "Epoch 5 Loss: 1.3806\n",
            "Time taken for 1 epoch 114.87 sec\n",
            "________________________________________________________________________________\n",
            "Epoch 6 Batch 0 Loss 1.3310\n",
            "Epoch 6 Batch 50 Loss 1.3185\n",
            "Epoch 6 Batch 100 Loss 1.3500\n",
            "Epoch 6 Batch 150 Loss 1.3654\n",
            "\n",
            "Epoch 6 Loss: 1.3270\n",
            "Time taken for 1 epoch 115.05 sec\n",
            "________________________________________________________________________________\n",
            "Epoch 7 Batch 0 Loss 1.2916\n",
            "Epoch 7 Batch 50 Loss 1.2707\n",
            "Epoch 7 Batch 100 Loss 1.2994\n",
            "Epoch 7 Batch 150 Loss 1.2735\n",
            "\n",
            "Epoch 7 Loss: 1.2838\n",
            "Time taken for 1 epoch 114.88 sec\n",
            "________________________________________________________________________________\n",
            "Epoch 8 Batch 0 Loss 1.2074\n",
            "Epoch 8 Batch 50 Loss 1.2169\n",
            "Epoch 8 Batch 100 Loss 1.2814\n",
            "Epoch 8 Batch 150 Loss 1.1927\n",
            "\n",
            "Epoch 8 Loss: 1.2418\n",
            "Time taken for 1 epoch 114.52 sec\n",
            "________________________________________________________________________________\n",
            "Epoch 9 Batch 0 Loss 1.1691\n",
            "Epoch 9 Batch 50 Loss 1.2004\n",
            "Epoch 9 Batch 100 Loss 1.1977\n",
            "Epoch 9 Batch 150 Loss 1.2333\n",
            "\n",
            "Epoch 9 Loss: 1.2021\n",
            "Time taken for 1 epoch 114.94 sec\n",
            "________________________________________________________________________________\n",
            "Epoch 10 Batch 0 Loss 1.1116\n",
            "Epoch 10 Batch 50 Loss 1.1146\n",
            "Epoch 10 Batch 100 Loss 1.1442\n",
            "Epoch 10 Batch 150 Loss 1.1670\n",
            "\n",
            "Epoch 10 Loss: 1.1621\n",
            "Time taken for 1 epoch 114.72 sec\n",
            "________________________________________________________________________________\n"
          ]
        }
      ]
    },
    {
      "cell_type": "markdown",
      "source": [
        "## Perbedaan dengan Praktikum 2\n",
        "Kode di atas melatih model secara manual menggunakan GradientTape, sedangkan pada praktikum 2 digunakan metode fit() yang otomatis. Dengan GradientTape, kita dapat mengontrol sepenuhnya proses pelatihan, mulai dari perhitungan loss, gradien, hingga pembaruan parameter sehingga dapat menyesuaikan setiap langkah dengan kebutuhan/keinginan kita. Meskipun lebih sulit bagi kita (terutama saya sebagai pemula), metode ini cocok untuk percobaan yang memerlukan fleksibilitas, berbeda dengan fit() yang lebih sederhana dan ideal untuk eksperimen standar atau pemula."
      ],
      "metadata": {
        "id": "YAuD-8J9fKug"
      }
    }
  ]
}